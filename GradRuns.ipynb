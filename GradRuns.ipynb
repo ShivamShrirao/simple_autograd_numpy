{
 "cells": [
  {
   "cell_type": "code",
   "execution_count": 1,
   "id": "13b3052f-bf2c-4566-8e3b-d45cfc2c609d",
   "metadata": {},
   "outputs": [],
   "source": [
    "%load_ext autoreload\n",
    "%autoreload 2"
   ]
  },
  {
   "cell_type": "code",
   "execution_count": 2,
   "id": "dc8fe8cc",
   "metadata": {},
   "outputs": [],
   "source": [
    "import numpy as np"
   ]
  },
  {
   "cell_type": "code",
   "execution_count": 3,
   "id": "a62f285a-22cd-4b54-8608-de0777b3f6b3",
   "metadata": {},
   "outputs": [],
   "source": [
    "import torch"
   ]
  },
  {
   "cell_type": "code",
   "execution_count": 4,
   "id": "1f5d4c71-7df4-4d74-a412-2ca40a1e4135",
   "metadata": {},
   "outputs": [],
   "source": [
    "from tensor import Tensor"
   ]
  },
  {
   "cell_type": "code",
   "execution_count": 5,
   "id": "c61e3220-367b-4e17-974a-0c767f818d7b",
   "metadata": {},
   "outputs": [],
   "source": [
    "a = Tensor(np.array([230.3], dtype=np.float32))\n",
    "b = Tensor(np.array([33.2], dtype=np.float32))"
   ]
  },
  {
   "cell_type": "code",
   "execution_count": 6,
   "id": "141f1791-2e83-417a-82be-b2264b10e633",
   "metadata": {},
   "outputs": [],
   "source": [
    "def f(a, b):\n",
    "    return (a / b - a) * (b / a + a + b) * (a - b)"
   ]
  },
  {
   "cell_type": "code",
   "execution_count": 7,
   "id": "c0ee1d2e-0b40-4dc6-8b79-0f00bb835540",
   "metadata": {},
   "outputs": [],
   "source": [
    "y = f(a,b)"
   ]
  },
  {
   "cell_type": "code",
   "execution_count": 8,
   "id": "d5b9928a-f8db-4bbb-8d58-964dc1c5eaba",
   "metadata": {},
   "outputs": [],
   "source": [
    "y.backward()"
   ]
  },
  {
   "cell_type": "code",
   "execution_count": 9,
   "id": "754f6c64-25d1-47ad-9c78-2d981f0ddfb9",
   "metadata": {},
   "outputs": [
    {
     "data": {
      "text/plain": [
       "(array([-153284.84], dtype=float32), array([3815.038], dtype=float32))"
      ]
     },
     "execution_count": 9,
     "metadata": {},
     "output_type": "execute_result"
    }
   ],
   "source": [
    "a.grad, b.grad"
   ]
  },
  {
   "cell_type": "code",
   "execution_count": 32,
   "id": "d95b2cf8-fd09-404d-a643-d56dd8417037",
   "metadata": {},
   "outputs": [],
   "source": [
    "a = Tensor(np.array([1], dtype=np.float32), name='a')\n",
    "b = Tensor(np.array([2], dtype=np.float32), name='b')\n",
    "c = Tensor(np.array([3], dtype=np.float32), name='c')"
   ]
  },
  {
   "cell_type": "code",
   "execution_count": 11,
   "id": "16127875-5d9a-4ad8-8a43-af4df025954c",
   "metadata": {},
   "outputs": [],
   "source": [
    "a = torch.tensor(np.array([1], dtype=np.float32), requires_grad=True)\n",
    "b = torch.tensor(np.array([2], dtype=np.float32), requires_grad=True)\n",
    "c = torch.tensor(np.array([3], dtype=np.float32), requires_grad=True)"
   ]
  },
  {
   "cell_type": "code",
   "execution_count": 33,
   "id": "ab5b26fc-256e-41a2-8493-d302ae76fd27",
   "metadata": {
    "tags": []
   },
   "outputs": [
    {
     "data": {
      "text/plain": [
       "tensor([30.863823], dtype=float32)"
      ]
     },
     "execution_count": 33,
     "metadata": {},
     "output_type": "execute_result"
    }
   ],
   "source": [
    "d = (a * b).sin()\n",
    "e = (c - (a / b)).exp()\n",
    "f = d + e\n",
    "y = (f * f * f * f).log() * c\n",
    "y"
   ]
  },
  {
   "cell_type": "code",
   "execution_count": 13,
   "id": "4b86b30e-963a-4938-909e-d2cb0944a13c",
   "metadata": {
    "tags": []
   },
   "outputs": [],
   "source": [
    "# For pytorch\n",
    "d.retain_grad(); e.retain_grad(); f.retain_grad()"
   ]
  },
  {
   "cell_type": "code",
   "execution_count": 34,
   "id": "480f2b42-3132-48a2-a41b-d94d9b1aefee",
   "metadata": {
    "tags": []
   },
   "outputs": [],
   "source": [
    "y.backward()"
   ]
  },
  {
   "cell_type": "code",
   "execution_count": 35,
   "id": "98ea7f6b-7a4f-4bb5-9f28-13c8884a3b91",
   "metadata": {},
   "outputs": [
    {
     "data": {
      "text/plain": [
       "(array([-6.3461523], dtype=float32),\n",
       " array([2.4101915], dtype=float32),\n",
       " array([21.454475], dtype=float32),\n",
       " array([0.9166051], dtype=float32),\n",
       " array([0.9166051], dtype=float32),\n",
       " array([0.9166051], dtype=float32))"
      ]
     },
     "execution_count": 35,
     "metadata": {},
     "output_type": "execute_result"
    }
   ],
   "source": [
    "a.grad, b.grad, c.grad, d.grad, e.grad, f.grad"
   ]
  },
  {
   "cell_type": "code",
   "execution_count": 16,
   "id": "351c7e8a-349c-49d2-89d6-2f2b4a2e37e2",
   "metadata": {},
   "outputs": [
    {
     "data": {
      "text/plain": [
       "(tensor([-6.3462]),\n",
       " tensor([2.4102]),\n",
       " tensor([21.4545]),\n",
       " tensor([0.9166]),\n",
       " tensor([0.9166]),\n",
       " tensor([0.9166]))"
      ]
     },
     "execution_count": 16,
     "metadata": {},
     "output_type": "execute_result"
    }
   ],
   "source": [
    "a.grad, b.grad, c.grad, d.grad, e.grad, f.grad"
   ]
  },
  {
   "cell_type": "code",
   "execution_count": null,
   "id": "8ba3dac7-b6b0-48e2-89b2-d475cf2db079",
   "metadata": {},
   "outputs": [],
   "source": []
  },
  {
   "cell_type": "code",
   "execution_count": 26,
   "id": "03061f2b-d851-4a35-bfa8-fb1e608b18c9",
   "metadata": {},
   "outputs": [],
   "source": [
    "a = Tensor(np.array([2], dtype=np.float32), name='a')"
   ]
  },
  {
   "cell_type": "code",
   "execution_count": 18,
   "id": "46eaa2be-b27c-4c46-8efd-365887bb7d00",
   "metadata": {},
   "outputs": [],
   "source": [
    "a = torch.tensor(np.array([2], dtype=np.float32), requires_grad=True)"
   ]
  },
  {
   "cell_type": "code",
   "execution_count": 27,
   "id": "94c341da-beda-44e2-8be1-3160ea730e19",
   "metadata": {},
   "outputs": [],
   "source": [
    "def f(a):\n",
    "    b = a.sin()\n",
    "    c = a.log()\n",
    "    d = c/b*a\n",
    "    return (c+d-a).exp()"
   ]
  },
  {
   "cell_type": "code",
   "execution_count": 28,
   "id": "924c7949-26bb-4780-9432-49c0b0cf7882",
   "metadata": {},
   "outputs": [
    {
     "data": {
      "text/plain": [
       "tensor([1.2432449], dtype=float32)"
      ]
     },
     "execution_count": 28,
     "metadata": {},
     "output_type": "execute_result"
    }
   ],
   "source": [
    "e = f(a)"
   ]
  },
  {
   "cell_type": "code",
   "execution_count": 21,
   "id": "f4a38957-7365-4870-b04e-2395c026853d",
   "metadata": {},
   "outputs": [],
   "source": [
    "# For pytorch\n",
    "b.retain_grad(); c.retain_grad(); d.retain_grad(); e.retain_grad()"
   ]
  },
  {
   "cell_type": "code",
   "execution_count": 29,
   "id": "510d2991-921e-46c9-9e0f-63169f6ef0a1",
   "metadata": {},
   "outputs": [],
   "source": [
    "e.backward()"
   ]
  },
  {
   "cell_type": "code",
   "execution_count": 30,
   "id": "a7158b80-938b-4acc-8c77-e094301f2bef",
   "metadata": {},
   "outputs": [
    {
     "data": {
      "text/plain": [
       "(array([2.5608027], dtype=float32),\n",
       " array([-2.084492], dtype=float32),\n",
       " array([3.9777625], dtype=float32),\n",
       " array([1.2432449], dtype=float32),\n",
       " array([1.], dtype=float32))"
      ]
     },
     "execution_count": 30,
     "metadata": {},
     "output_type": "execute_result"
    }
   ],
   "source": [
    "a.grad, b.grad, c.grad, d.grad, e.grad"
   ]
  },
  {
   "cell_type": "code",
   "execution_count": 24,
   "id": "f50bf1c7-4533-4609-bcb9-51226ac6debf",
   "metadata": {},
   "outputs": [
    {
     "data": {
      "text/plain": [
       "(tensor([2.5608]),\n",
       " tensor([-2.0845]),\n",
       " tensor([3.9778]),\n",
       " tensor([1.2432]),\n",
       " tensor([1.]))"
      ]
     },
     "execution_count": 24,
     "metadata": {},
     "output_type": "execute_result"
    }
   ],
   "source": [
    "a.grad, b.grad, c.grad, d.grad, e.grad"
   ]
  },
  {
   "cell_type": "code",
   "execution_count": 31,
   "id": "a75818cd-7a7f-4973-8306-d688fd2d6676",
   "metadata": {},
   "outputs": [
    {
     "data": {
      "image/svg+xml": [
       "<?xml version=\"1.0\" encoding=\"UTF-8\" standalone=\"no\"?>\n",
       "<!DOCTYPE svg PUBLIC \"-//W3C//DTD SVG 1.1//EN\"\n",
       " \"http://www.w3.org/Graphics/SVG/1.1/DTD/svg11.dtd\">\n",
       "<!-- Generated by graphviz version 2.47.1 (0)\n",
       " -->\n",
       "<!-- Pages: 1 -->\n",
       "<svg width=\"262pt\" height=\"548pt\"\n",
       " viewBox=\"0.00 0.00 262.13 548.00\" xmlns=\"http://www.w3.org/2000/svg\" xmlns:xlink=\"http://www.w3.org/1999/xlink\">\n",
       "<g id=\"graph0\" class=\"graph\" transform=\"scale(1 1) rotate(0) translate(4 544)\">\n",
       "<polygon fill=\"white\" stroke=\"transparent\" points=\"-4,4 -4,-544 258.13,-544 258.13,4 -4,4\"/>\n",
       "<!-- 8779949166427 -->\n",
       "<g id=\"node1\" class=\"node\">\n",
       "<title>8779949166427</title>\n",
       "<ellipse fill=\"#b2dfee\" stroke=\"#b2dfee\" cx=\"173.98\" cy=\"-18\" rx=\"27.1\" ry=\"18\"/>\n",
       "<text text-anchor=\"middle\" x=\"173.98\" y=\"-14.3\" font-family=\"Times,serif\" font-size=\"14.00\">exp</text>\n",
       "</g>\n",
       "<!-- 8779949166451 -->\n",
       "<g id=\"node2\" class=\"node\">\n",
       "<title>8779949166451</title>\n",
       "<ellipse fill=\"#b2dfee\" stroke=\"#b2dfee\" cx=\"173.98\" cy=\"-90\" rx=\"45.49\" ry=\"18\"/>\n",
       "<text text-anchor=\"middle\" x=\"173.98\" y=\"-86.3\" font-family=\"Times,serif\" font-size=\"14.00\">__add__</text>\n",
       "</g>\n",
       "<!-- 8779949166451&#45;&gt;8779949166427 -->\n",
       "<g id=\"edge1\" class=\"edge\">\n",
       "<title>8779949166451&#45;&gt;8779949166427</title>\n",
       "<path fill=\"none\" stroke=\"black\" d=\"M173.98,-71.7C173.98,-63.98 173.98,-54.71 173.98,-46.11\"/>\n",
       "<polygon fill=\"black\" stroke=\"black\" points=\"177.48,-46.1 173.98,-36.1 170.48,-46.1 177.48,-46.1\"/>\n",
       "</g>\n",
       "<!-- 8779949166502 -->\n",
       "<g id=\"node3\" class=\"node\">\n",
       "<title>8779949166502</title>\n",
       "<ellipse fill=\"#b2dfee\" stroke=\"#b2dfee\" cx=\"137.98\" cy=\"-162\" rx=\"45.49\" ry=\"18\"/>\n",
       "<text text-anchor=\"middle\" x=\"137.98\" y=\"-158.3\" font-family=\"Times,serif\" font-size=\"14.00\">__add__</text>\n",
       "</g>\n",
       "<!-- 8779949166502&#45;&gt;8779949166451 -->\n",
       "<g id=\"edge2\" class=\"edge\">\n",
       "<title>8779949166502&#45;&gt;8779949166451</title>\n",
       "<path fill=\"none\" stroke=\"black\" d=\"M146.7,-144.05C150.9,-135.89 156.03,-125.91 160.7,-116.82\"/>\n",
       "<polygon fill=\"black\" stroke=\"black\" points=\"163.89,-118.28 165.35,-107.79 157.66,-115.08 163.89,-118.28\"/>\n",
       "</g>\n",
       "<!-- 8779949172824 -->\n",
       "<g id=\"node4\" class=\"node\">\n",
       "<title>8779949172824</title>\n",
       "<ellipse fill=\"#b2dfee\" stroke=\"#b2dfee\" cx=\"155.98\" cy=\"-378\" rx=\"27\" ry=\"18\"/>\n",
       "<text text-anchor=\"middle\" x=\"155.98\" y=\"-374.3\" font-family=\"Times,serif\" font-size=\"14.00\">log</text>\n",
       "</g>\n",
       "<!-- 8779949172824&#45;&gt;8779949166502 -->\n",
       "<g id=\"edge3\" class=\"edge\">\n",
       "<title>8779949172824&#45;&gt;8779949166502</title>\n",
       "<path fill=\"none\" stroke=\"black\" d=\"M154.54,-359.85C151.43,-322.83 144.05,-235.18 140.29,-190.39\"/>\n",
       "<polygon fill=\"black\" stroke=\"black\" points=\"143.76,-189.9 139.43,-180.23 136.78,-190.49 143.76,-189.9\"/>\n",
       "</g>\n",
       "<!-- 8779949172791 -->\n",
       "<g id=\"node7\" class=\"node\">\n",
       "<title>8779949172791</title>\n",
       "<ellipse fill=\"#b2dfee\" stroke=\"#b2dfee\" cx=\"67.98\" cy=\"-306\" rx=\"46.29\" ry=\"18\"/>\n",
       "<text text-anchor=\"middle\" x=\"67.98\" y=\"-302.3\" font-family=\"Times,serif\" font-size=\"14.00\">__mul__</text>\n",
       "</g>\n",
       "<!-- 8779949172824&#45;&gt;8779949172791 -->\n",
       "<g id=\"edge7\" class=\"edge\">\n",
       "<title>8779949172824&#45;&gt;8779949172791</title>\n",
       "<path fill=\"none\" stroke=\"black\" d=\"M139.02,-363.5C126.66,-353.67 109.65,-340.15 95.38,-328.79\"/>\n",
       "<polygon fill=\"black\" stroke=\"black\" points=\"97.35,-325.89 87.35,-322.41 93,-331.37 97.35,-325.89\"/>\n",
       "</g>\n",
       "<!-- 8779949193716 -->\n",
       "<g id=\"node5\" class=\"node\">\n",
       "<title>8779949193716</title>\n",
       "<polygon fill=\"lightgrey\" stroke=\"black\" points=\"125.98,-540 71.98,-540 71.98,-504 125.98,-504 125.98,-540\"/>\n",
       "<text text-anchor=\"middle\" x=\"98.98\" y=\"-518.3\" font-family=\"Times,serif\" font-size=\"14.00\">a</text>\n",
       "</g>\n",
       "<!-- 8779949193716&#45;&gt;8779949172824 -->\n",
       "<g id=\"edge4\" class=\"edge\">\n",
       "<title>8779949193716&#45;&gt;8779949172824</title>\n",
       "<path fill=\"none\" stroke=\"black\" d=\"M105.86,-503.87C115.71,-479.33 133.93,-433.94 145.48,-405.17\"/>\n",
       "<polygon fill=\"black\" stroke=\"black\" points=\"148.78,-406.33 149.26,-395.75 142.29,-403.72 148.78,-406.33\"/>\n",
       "</g>\n",
       "<!-- 8779949166415 -->\n",
       "<g id=\"node6\" class=\"node\">\n",
       "<title>8779949166415</title>\n",
       "<ellipse fill=\"#b2dfee\" stroke=\"#b2dfee\" cx=\"67.98\" cy=\"-234\" rx=\"46.29\" ry=\"18\"/>\n",
       "<text text-anchor=\"middle\" x=\"67.98\" y=\"-230.3\" font-family=\"Times,serif\" font-size=\"14.00\">__mul__</text>\n",
       "</g>\n",
       "<!-- 8779949193716&#45;&gt;8779949166415 -->\n",
       "<g id=\"edge11\" class=\"edge\">\n",
       "<title>8779949193716&#45;&gt;8779949166415</title>\n",
       "<path fill=\"none\" stroke=\"black\" d=\"M71.72,-505.76C57.44,-496.52 40.74,-483.52 29.98,-468 10.92,-440.5 12.93,-429.09 7.98,-396 0.88,-348.48 -7.34,-331.54 12.98,-288 18.65,-275.86 28.4,-265.05 38.14,-256.41\"/>\n",
       "<polygon fill=\"black\" stroke=\"black\" points=\"40.43,-259.06 45.87,-249.96 35.95,-253.68 40.43,-259.06\"/>\n",
       "</g>\n",
       "<!-- 8779949172833 -->\n",
       "<g id=\"node9\" class=\"node\">\n",
       "<title>8779949172833</title>\n",
       "<ellipse fill=\"#b2dfee\" stroke=\"#b2dfee\" cx=\"65.98\" cy=\"-450\" rx=\"27\" ry=\"18\"/>\n",
       "<text text-anchor=\"middle\" x=\"65.98\" y=\"-446.3\" font-family=\"Times,serif\" font-size=\"14.00\">sin</text>\n",
       "</g>\n",
       "<!-- 8779949193716&#45;&gt;8779949172833 -->\n",
       "<g id=\"edge10\" class=\"edge\">\n",
       "<title>8779949193716&#45;&gt;8779949172833</title>\n",
       "<path fill=\"none\" stroke=\"black\" d=\"M90.83,-503.7C87.01,-495.61 82.39,-485.81 78.18,-476.87\"/>\n",
       "<polygon fill=\"black\" stroke=\"black\" points=\"81.25,-475.18 73.82,-467.62 74.92,-478.16 81.25,-475.18\"/>\n",
       "</g>\n",
       "<!-- 8779949166382 -->\n",
       "<g id=\"node10\" class=\"node\">\n",
       "<title>8779949166382</title>\n",
       "<ellipse fill=\"#b2dfee\" stroke=\"#b2dfee\" cx=\"207.98\" cy=\"-450\" rx=\"46.29\" ry=\"18\"/>\n",
       "<text text-anchor=\"middle\" x=\"207.98\" y=\"-446.3\" font-family=\"Times,serif\" font-size=\"14.00\">__mul__</text>\n",
       "</g>\n",
       "<!-- 8779949193716&#45;&gt;8779949166382 -->\n",
       "<g id=\"edge13\" class=\"edge\">\n",
       "<title>8779949193716&#45;&gt;8779949166382</title>\n",
       "<path fill=\"none\" stroke=\"black\" d=\"M125.65,-503.88C140.96,-494.04 160.29,-481.63 176.37,-471.31\"/>\n",
       "<polygon fill=\"black\" stroke=\"black\" points=\"178.39,-474.16 184.92,-465.81 174.61,-468.27 178.39,-474.16\"/>\n",
       "</g>\n",
       "<!-- 8779949166415&#45;&gt;8779949166502 -->\n",
       "<g id=\"edge5\" class=\"edge\">\n",
       "<title>8779949166415&#45;&gt;8779949166502</title>\n",
       "<path fill=\"none\" stroke=\"black\" d=\"M84.22,-216.76C93.23,-207.75 104.6,-196.39 114.56,-186.43\"/>\n",
       "<polygon fill=\"black\" stroke=\"black\" points=\"117.24,-188.69 121.84,-179.15 112.29,-183.74 117.24,-188.69\"/>\n",
       "</g>\n",
       "<!-- 8779949172791&#45;&gt;8779949166415 -->\n",
       "<g id=\"edge6\" class=\"edge\">\n",
       "<title>8779949172791&#45;&gt;8779949166415</title>\n",
       "<path fill=\"none\" stroke=\"black\" d=\"M67.98,-287.7C67.98,-279.98 67.98,-270.71 67.98,-262.11\"/>\n",
       "<polygon fill=\"black\" stroke=\"black\" points=\"71.48,-262.1 67.98,-252.1 64.48,-262.1 71.48,-262.1\"/>\n",
       "</g>\n",
       "<!-- 8779949172866 -->\n",
       "<g id=\"node8\" class=\"node\">\n",
       "<title>8779949172866</title>\n",
       "<ellipse fill=\"#b2dfee\" stroke=\"#b2dfee\" cx=\"63.98\" cy=\"-378\" rx=\"47.39\" ry=\"18\"/>\n",
       "<text text-anchor=\"middle\" x=\"63.98\" y=\"-374.3\" font-family=\"Times,serif\" font-size=\"14.00\">__pow__</text>\n",
       "</g>\n",
       "<!-- 8779949172866&#45;&gt;8779949172791 -->\n",
       "<g id=\"edge8\" class=\"edge\">\n",
       "<title>8779949172866&#45;&gt;8779949172791</title>\n",
       "<path fill=\"none\" stroke=\"black\" d=\"M64.97,-359.7C65.41,-351.98 65.94,-342.71 66.43,-334.11\"/>\n",
       "<polygon fill=\"black\" stroke=\"black\" points=\"69.93,-334.29 67.01,-324.1 62.94,-333.89 69.93,-334.29\"/>\n",
       "</g>\n",
       "<!-- 8779949172833&#45;&gt;8779949172866 -->\n",
       "<g id=\"edge9\" class=\"edge\">\n",
       "<title>8779949172833&#45;&gt;8779949172866</title>\n",
       "<path fill=\"none\" stroke=\"black\" d=\"M65.49,-431.7C65.27,-423.98 65,-414.71 64.76,-406.11\"/>\n",
       "<polygon fill=\"black\" stroke=\"black\" points=\"68.26,-406 64.47,-396.1 61.26,-406.2 68.26,-406\"/>\n",
       "</g>\n",
       "<!-- 8779949166382&#45;&gt;8779949166451 -->\n",
       "<g id=\"edge12\" class=\"edge\">\n",
       "<title>8779949166382&#45;&gt;8779949166451</title>\n",
       "<path fill=\"none\" stroke=\"black\" d=\"M208.58,-431.95C209.45,-405.3 210.98,-352.12 210.98,-307 210.98,-307 210.98,-307 210.98,-233 210.98,-191.71 196.15,-145.77 185.27,-117.63\"/>\n",
       "<polygon fill=\"black\" stroke=\"black\" points=\"188.43,-116.11 181.47,-108.11 181.92,-118.7 188.43,-116.11\"/>\n",
       "</g>\n",
       "<!-- 8779949166574 -->\n",
       "<g id=\"node11\" class=\"node\">\n",
       "<title>8779949166574</title>\n",
       "<ellipse fill=\"#b2dfee\" stroke=\"#b2dfee\" cx=\"207.98\" cy=\"-522\" rx=\"44.69\" ry=\"18\"/>\n",
       "<text text-anchor=\"start\" x=\"181.48\" y=\"-518.3\" font-family=\"Times,serif\" font-size=\"14.00\">lambda</text>\n",
       "</g>\n",
       "<!-- 8779949166574&#45;&gt;8779949166382 -->\n",
       "<g id=\"edge14\" class=\"edge\">\n",
       "<title>8779949166574&#45;&gt;8779949166382</title>\n",
       "<path fill=\"none\" stroke=\"black\" d=\"M207.98,-503.7C207.98,-495.98 207.98,-486.71 207.98,-478.11\"/>\n",
       "<polygon fill=\"black\" stroke=\"black\" points=\"211.48,-478.1 207.98,-468.1 204.48,-478.1 211.48,-478.1\"/>\n",
       "</g>\n",
       "</g>\n",
       "</svg>\n"
      ],
      "text/plain": [
       "<graphviz.dot.Digraph at 0x7fc3dc0b93a0>"
      ]
     },
     "execution_count": 31,
     "metadata": {},
     "output_type": "execute_result"
    }
   ],
   "source": [
    "e.generate_graph()"
   ]
  },
  {
   "cell_type": "code",
   "execution_count": null,
   "id": "4ed62735-af21-41bf-ac0a-1fc812a64002",
   "metadata": {},
   "outputs": [],
   "source": []
  }
 ],
 "metadata": {
  "kernelspec": {
   "display_name": "Python 3",
   "language": "python",
   "name": "python3"
  },
  "language_info": {
   "codemirror_mode": {
    "name": "ipython",
    "version": 3
   },
   "file_extension": ".py",
   "mimetype": "text/x-python",
   "name": "python",
   "nbconvert_exporter": "python",
   "pygments_lexer": "ipython3",
   "version": "3.9.4"
  }
 },
 "nbformat": 4,
 "nbformat_minor": 5
}
