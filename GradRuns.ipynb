{
 "cells": [
  {
   "cell_type": "code",
   "execution_count": 1,
   "id": "13b3052f-bf2c-4566-8e3b-d45cfc2c609d",
   "metadata": {},
   "outputs": [],
   "source": [
    "%load_ext autoreload\n",
    "%autoreload 2"
   ]
  },
  {
   "cell_type": "code",
   "execution_count": 2,
   "id": "dc8fe8cc",
   "metadata": {},
   "outputs": [],
   "source": [
    "import numpy as np"
   ]
  },
  {
   "cell_type": "code",
   "execution_count": 3,
   "id": "a62f285a-22cd-4b54-8608-de0777b3f6b3",
   "metadata": {},
   "outputs": [],
   "source": [
    "import torch"
   ]
  },
  {
   "cell_type": "code",
   "execution_count": 4,
   "id": "1f5d4c71-7df4-4d74-a412-2ca40a1e4135",
   "metadata": {},
   "outputs": [],
   "source": [
    "from tensor import Tensor"
   ]
  },
  {
   "cell_type": "code",
   "execution_count": 5,
   "id": "c61e3220-367b-4e17-974a-0c767f818d7b",
   "metadata": {},
   "outputs": [],
   "source": [
    "a = Tensor(np.array([230.3], dtype=np.float32))\n",
    "b = Tensor(np.array([33.2], dtype=np.float32))"
   ]
  },
  {
   "cell_type": "code",
   "execution_count": 6,
   "id": "141f1791-2e83-417a-82be-b2264b10e633",
   "metadata": {},
   "outputs": [],
   "source": [
    "def f(a, b):\n",
    "    return (a / b - a) * (b / a + a + b) * (a - b)"
   ]
  },
  {
   "cell_type": "code",
   "execution_count": 7,
   "id": "c0ee1d2e-0b40-4dc6-8b79-0f00bb835540",
   "metadata": {},
   "outputs": [],
   "source": [
    "y = f(a,b)"
   ]
  },
  {
   "cell_type": "code",
   "execution_count": 8,
   "id": "d5b9928a-f8db-4bbb-8d58-964dc1c5eaba",
   "metadata": {},
   "outputs": [],
   "source": [
    "y.backward()"
   ]
  },
  {
   "cell_type": "code",
   "execution_count": 9,
   "id": "754f6c64-25d1-47ad-9c78-2d981f0ddfb9",
   "metadata": {},
   "outputs": [
    {
     "data": {
      "text/plain": [
       "(array([-153284.84], dtype=float32), array([3815.038], dtype=float32))"
      ]
     },
     "execution_count": 9,
     "metadata": {},
     "output_type": "execute_result"
    }
   ],
   "source": [
    "a.grad, b.grad"
   ]
  },
  {
   "cell_type": "code",
   "execution_count": 17,
   "id": "d95b2cf8-fd09-404d-a643-d56dd8417037",
   "metadata": {},
   "outputs": [],
   "source": [
    "a = Tensor(np.array([1], dtype=np.float32), name='a')\n",
    "b = Tensor(np.array([2], dtype=np.float32), name='b')\n",
    "c = Tensor(np.array([3], dtype=np.float32), name='c')"
   ]
  },
  {
   "cell_type": "code",
   "execution_count": 11,
   "id": "16127875-5d9a-4ad8-8a43-af4df025954c",
   "metadata": {},
   "outputs": [],
   "source": [
    "a = torch.tensor(np.array([1], dtype=np.float32), requires_grad=True)\n",
    "b = torch.tensor(np.array([2], dtype=np.float32), requires_grad=True)\n",
    "c = torch.tensor(np.array([3], dtype=np.float32), requires_grad=True)"
   ]
  },
  {
   "cell_type": "code",
   "execution_count": 18,
   "id": "ab5b26fc-256e-41a2-8493-d302ae76fd27",
   "metadata": {
    "tags": []
   },
   "outputs": [
    {
     "data": {
      "text/plain": [
       "tensor([30.863823], dtype=float32)"
      ]
     },
     "execution_count": 18,
     "metadata": {},
     "output_type": "execute_result"
    }
   ],
   "source": [
    "d = (a * b).sin()\n",
    "e = (c - (a / b)).exp()\n",
    "f = d + e\n",
    "y = (f * f * f * f).log() * c\n",
    "y"
   ]
  },
  {
   "cell_type": "code",
   "execution_count": 13,
   "id": "4b86b30e-963a-4938-909e-d2cb0944a13c",
   "metadata": {
    "tags": []
   },
   "outputs": [],
   "source": [
    "# For pytorch\n",
    "d.retain_grad(); e.retain_grad(); f.retain_grad()"
   ]
  },
  {
   "cell_type": "code",
   "execution_count": 19,
   "id": "480f2b42-3132-48a2-a41b-d94d9b1aefee",
   "metadata": {
    "tags": []
   },
   "outputs": [],
   "source": [
    "y.backward()"
   ]
  },
  {
   "cell_type": "code",
   "execution_count": 20,
   "id": "98ea7f6b-7a4f-4bb5-9f28-13c8884a3b91",
   "metadata": {},
   "outputs": [
    {
     "data": {
      "text/plain": [
       "(array([-6.3461523], dtype=float32),\n",
       " array([2.4101915], dtype=float32),\n",
       " array([21.454475], dtype=float32),\n",
       " array([0.9166051], dtype=float32),\n",
       " array([0.9166051], dtype=float32),\n",
       " array([0.9166051], dtype=float32))"
      ]
     },
     "execution_count": 20,
     "metadata": {},
     "output_type": "execute_result"
    }
   ],
   "source": [
    "a.grad, b.grad, c.grad, d.grad, e.grad, f.grad"
   ]
  },
  {
   "cell_type": "code",
   "execution_count": 16,
   "id": "351c7e8a-349c-49d2-89d6-2f2b4a2e37e2",
   "metadata": {},
   "outputs": [
    {
     "data": {
      "text/plain": [
       "(tensor([-6.3462]),\n",
       " tensor([2.4102]),\n",
       " tensor([21.4545]),\n",
       " tensor([0.9166]),\n",
       " tensor([0.9166]),\n",
       " tensor([0.9166]))"
      ]
     },
     "execution_count": 16,
     "metadata": {},
     "output_type": "execute_result"
    }
   ],
   "source": [
    "a.grad, b.grad, c.grad, d.grad, e.grad, f.grad"
   ]
  },
  {
   "cell_type": "code",
   "execution_count": null,
   "id": "8ba3dac7-b6b0-48e2-89b2-d475cf2db079",
   "metadata": {},
   "outputs": [],
   "source": []
  },
  {
   "cell_type": "code",
   "execution_count": 36,
   "id": "03061f2b-d851-4a35-bfa8-fb1e608b18c9",
   "metadata": {},
   "outputs": [],
   "source": [
    "a = Tensor(np.array([2], dtype=np.float32), name='a')"
   ]
  },
  {
   "cell_type": "code",
   "execution_count": 30,
   "id": "46eaa2be-b27c-4c46-8efd-365887bb7d00",
   "metadata": {},
   "outputs": [],
   "source": [
    "a = torch.tensor(np.array([2], dtype=np.float32), requires_grad=True)"
   ]
  },
  {
   "cell_type": "code",
   "execution_count": 42,
   "id": "94c341da-beda-44e2-8be1-3160ea730e19",
   "metadata": {},
   "outputs": [],
   "source": [
    "def fn(a):\n",
    "    b = a.sin()\n",
    "    c = a.log()\n",
    "    d = c/b*a\n",
    "    return (c+d/a).exp()"
   ]
  },
  {
   "cell_type": "code",
   "execution_count": 38,
   "id": "924c7949-26bb-4780-9432-49c0b0cf7882",
   "metadata": {},
   "outputs": [
    {
     "data": {
      "text/plain": [
       "tensor([4.286352], dtype=float32)"
      ]
     },
     "execution_count": 38,
     "metadata": {},
     "output_type": "execute_result"
    }
   ],
   "source": [
    "e = fn(a)\n",
    "e"
   ]
  },
  {
   "cell_type": "code",
   "execution_count": 33,
   "id": "f4a38957-7365-4870-b04e-2395c026853d",
   "metadata": {},
   "outputs": [],
   "source": [
    "# For pytorch\n",
    "e.retain_grad()"
   ]
  },
  {
   "cell_type": "code",
   "execution_count": 39,
   "id": "510d2991-921e-46c9-9e0f-63169f6ef0a1",
   "metadata": {},
   "outputs": [],
   "source": [
    "e.backward()"
   ]
  },
  {
   "cell_type": "code",
   "execution_count": 40,
   "id": "f50bf1c7-4533-4609-bcb9-51226ac6debf",
   "metadata": {},
   "outputs": [
    {
     "data": {
      "text/plain": [
       "(array([5.995502], dtype=float32), array([1.], dtype=float32))"
      ]
     },
     "execution_count": 40,
     "metadata": {},
     "output_type": "execute_result"
    }
   ],
   "source": [
    "a.grad, e.grad"
   ]
  },
  {
   "cell_type": "code",
   "execution_count": 35,
   "id": "f5bcf569-249a-4645-94f0-aa4da7d511b3",
   "metadata": {},
   "outputs": [
    {
     "data": {
      "text/plain": [
       "(tensor([5.9955]), tensor([1.]))"
      ]
     },
     "execution_count": 35,
     "metadata": {},
     "output_type": "execute_result"
    }
   ],
   "source": [
    "a.grad, e.grad"
   ]
  },
  {
   "cell_type": "code",
   "execution_count": 41,
   "id": "a75818cd-7a7f-4973-8306-d688fd2d6676",
   "metadata": {},
   "outputs": [
    {
     "data": {
      "image/svg+xml": [
       "<?xml version=\"1.0\" encoding=\"UTF-8\" standalone=\"no\"?>\n",
       "<!DOCTYPE svg PUBLIC \"-//W3C//DTD SVG 1.1//EN\"\n",
       " \"http://www.w3.org/Graphics/SVG/1.1/DTD/svg11.dtd\">\n",
       "<!-- Generated by graphviz version 2.47.1 (0)\n",
       " -->\n",
       "<!-- Pages: 1 -->\n",
       "<svg width=\"324pt\" height=\"548pt\"\n",
       " viewBox=\"0.00 0.00 324.45 548.00\" xmlns=\"http://www.w3.org/2000/svg\" xmlns:xlink=\"http://www.w3.org/1999/xlink\">\n",
       "<g id=\"graph0\" class=\"graph\" transform=\"scale(1 1) rotate(0) translate(4 544)\">\n",
       "<polygon fill=\"white\" stroke=\"transparent\" points=\"-4,4 -4,-544 320.45,-544 320.45,4 -4,4\"/>\n",
       "<!-- 8728590293508 -->\n",
       "<g id=\"node1\" class=\"node\">\n",
       "<title>8728590293508</title>\n",
       "<ellipse fill=\"#b2dfee\" stroke=\"#b2dfee\" cx=\"242.45\" cy=\"-18\" rx=\"27.1\" ry=\"18\"/>\n",
       "<text text-anchor=\"middle\" x=\"242.45\" y=\"-14.3\" font-family=\"Times,serif\" font-size=\"14.00\">exp</text>\n",
       "</g>\n",
       "<!-- 8728745198213 -->\n",
       "<g id=\"node2\" class=\"node\">\n",
       "<title>8728745198213</title>\n",
       "<ellipse fill=\"#b2dfee\" stroke=\"#b2dfee\" cx=\"242.45\" cy=\"-90\" rx=\"45.49\" ry=\"18\"/>\n",
       "<text text-anchor=\"middle\" x=\"242.45\" y=\"-86.3\" font-family=\"Times,serif\" font-size=\"14.00\">__add__</text>\n",
       "</g>\n",
       "<!-- 8728745198213&#45;&gt;8728590293508 -->\n",
       "<g id=\"edge1\" class=\"edge\">\n",
       "<title>8728745198213&#45;&gt;8728590293508</title>\n",
       "<path fill=\"none\" stroke=\"black\" d=\"M242.45,-71.7C242.45,-63.98 242.45,-54.71 242.45,-46.11\"/>\n",
       "<polygon fill=\"black\" stroke=\"black\" points=\"245.95,-46.1 242.45,-36.1 238.95,-46.1 245.95,-46.1\"/>\n",
       "</g>\n",
       "<!-- 8728592906978 -->\n",
       "<g id=\"node3\" class=\"node\">\n",
       "<title>8728592906978</title>\n",
       "<ellipse fill=\"#b2dfee\" stroke=\"#b2dfee\" cx=\"289.45\" cy=\"-378\" rx=\"27\" ry=\"18\"/>\n",
       "<text text-anchor=\"middle\" x=\"289.45\" y=\"-374.3\" font-family=\"Times,serif\" font-size=\"14.00\">log</text>\n",
       "</g>\n",
       "<!-- 8728592906978&#45;&gt;8728745198213 -->\n",
       "<g id=\"edge2\" class=\"edge\">\n",
       "<title>8728592906978&#45;&gt;8728745198213</title>\n",
       "<path fill=\"none\" stroke=\"black\" d=\"M286.65,-359.97C278.8,-312.19 256.52,-176.62 246.93,-118.27\"/>\n",
       "<polygon fill=\"black\" stroke=\"black\" points=\"250.37,-117.61 245.29,-108.31 243.46,-118.74 250.37,-117.61\"/>\n",
       "</g>\n",
       "<!-- 8728592901298 -->\n",
       "<g id=\"node7\" class=\"node\">\n",
       "<title>8728592901298</title>\n",
       "<ellipse fill=\"#b2dfee\" stroke=\"#b2dfee\" cx=\"197.45\" cy=\"-306\" rx=\"46.29\" ry=\"18\"/>\n",
       "<text text-anchor=\"middle\" x=\"197.45\" y=\"-302.3\" font-family=\"Times,serif\" font-size=\"14.00\">__mul__</text>\n",
       "</g>\n",
       "<!-- 8728592906978&#45;&gt;8728592901298 -->\n",
       "<g id=\"edge7\" class=\"edge\">\n",
       "<title>8728592906978&#45;&gt;8728592901298</title>\n",
       "<path fill=\"none\" stroke=\"black\" d=\"M272.14,-363.83C259.05,-353.88 240.81,-339.99 225.62,-328.44\"/>\n",
       "<polygon fill=\"black\" stroke=\"black\" points=\"227.63,-325.57 217.56,-322.3 223.39,-331.14 227.63,-325.57\"/>\n",
       "</g>\n",
       "<!-- 8728592906867 -->\n",
       "<g id=\"node4\" class=\"node\">\n",
       "<title>8728592906867</title>\n",
       "<polygon fill=\"lightgrey\" stroke=\"black\" points=\"176.45,-540 122.45,-540 122.45,-504 176.45,-504 176.45,-540\"/>\n",
       "<text text-anchor=\"middle\" x=\"149.45\" y=\"-518.3\" font-family=\"Times,serif\" font-size=\"14.00\">a</text>\n",
       "</g>\n",
       "<!-- 8728592906867&#45;&gt;8728592906978 -->\n",
       "<g id=\"edge3\" class=\"edge\">\n",
       "<title>8728592906867&#45;&gt;8728592906978</title>\n",
       "<path fill=\"none\" stroke=\"black\" d=\"M176.68,-504.45C191.39,-494.81 209.36,-481.85 223.45,-468 243.36,-448.41 261.92,-422.4 274.26,-403.56\"/>\n",
       "<polygon fill=\"black\" stroke=\"black\" points=\"277.33,-405.26 279.79,-394.95 271.44,-401.47 277.33,-405.26\"/>\n",
       "</g>\n",
       "<!-- 8728592901283 -->\n",
       "<g id=\"node6\" class=\"node\">\n",
       "<title>8728592901283</title>\n",
       "<ellipse fill=\"#b2dfee\" stroke=\"#b2dfee\" cx=\"159.45\" cy=\"-234\" rx=\"46.29\" ry=\"18\"/>\n",
       "<text text-anchor=\"middle\" x=\"159.45\" y=\"-230.3\" font-family=\"Times,serif\" font-size=\"14.00\">__mul__</text>\n",
       "</g>\n",
       "<!-- 8728592906867&#45;&gt;8728592901283 -->\n",
       "<g id=\"edge11\" class=\"edge\">\n",
       "<title>8728592906867&#45;&gt;8728592901283</title>\n",
       "<path fill=\"none\" stroke=\"black\" d=\"M146.71,-503.9C141,-465.16 129.38,-367.88 142.45,-288 143.89,-279.19 146.5,-269.83 149.26,-261.47\"/>\n",
       "<polygon fill=\"black\" stroke=\"black\" points=\"152.62,-262.46 152.62,-251.87 146.01,-260.15 152.62,-262.46\"/>\n",
       "</g>\n",
       "<!-- 8728592906966 -->\n",
       "<g id=\"node9\" class=\"node\">\n",
       "<title>8728592906966</title>\n",
       "<ellipse fill=\"#b2dfee\" stroke=\"#b2dfee\" cx=\"187.45\" cy=\"-450\" rx=\"27\" ry=\"18\"/>\n",
       "<text text-anchor=\"middle\" x=\"187.45\" y=\"-446.3\" font-family=\"Times,serif\" font-size=\"14.00\">sin</text>\n",
       "</g>\n",
       "<!-- 8728592906867&#45;&gt;8728592906966 -->\n",
       "<g id=\"edge10\" class=\"edge\">\n",
       "<title>8728592906867&#45;&gt;8728592906966</title>\n",
       "<path fill=\"none\" stroke=\"black\" d=\"M158.84,-503.7C163.34,-495.4 168.82,-485.31 173.77,-476.19\"/>\n",
       "<polygon fill=\"black\" stroke=\"black\" points=\"176.99,-477.6 178.68,-467.14 170.83,-474.26 176.99,-477.6\"/>\n",
       "</g>\n",
       "<!-- 8728745224379 -->\n",
       "<g id=\"node10\" class=\"node\">\n",
       "<title>8728745224379</title>\n",
       "<ellipse fill=\"#b2dfee\" stroke=\"#b2dfee\" cx=\"47.45\" cy=\"-306\" rx=\"47.39\" ry=\"18\"/>\n",
       "<text text-anchor=\"middle\" x=\"47.45\" y=\"-302.3\" font-family=\"Times,serif\" font-size=\"14.00\">__pow__</text>\n",
       "</g>\n",
       "<!-- 8728592906867&#45;&gt;8728745224379 -->\n",
       "<g id=\"edge13\" class=\"edge\">\n",
       "<title>8728592906867&#45;&gt;8728745224379</title>\n",
       "<path fill=\"none\" stroke=\"black\" d=\"M134,-503.77C125.65,-493.83 115.61,-480.79 108.45,-468 83.55,-423.52 64.75,-366.85 54.98,-333.97\"/>\n",
       "<polygon fill=\"black\" stroke=\"black\" points=\"58.28,-332.8 52.12,-324.18 51.56,-334.76 58.28,-332.8\"/>\n",
       "</g>\n",
       "<!-- 8728745198267 -->\n",
       "<g id=\"node5\" class=\"node\">\n",
       "<title>8728745198267</title>\n",
       "<ellipse fill=\"#b2dfee\" stroke=\"#b2dfee\" cx=\"159.45\" cy=\"-162\" rx=\"46.29\" ry=\"18\"/>\n",
       "<text text-anchor=\"middle\" x=\"159.45\" y=\"-158.3\" font-family=\"Times,serif\" font-size=\"14.00\">__mul__</text>\n",
       "</g>\n",
       "<!-- 8728745198267&#45;&gt;8728745198213 -->\n",
       "<g id=\"edge4\" class=\"edge\">\n",
       "<title>8728745198267&#45;&gt;8728745198213</title>\n",
       "<path fill=\"none\" stroke=\"black\" d=\"M177.87,-145.46C189.15,-135.95 203.77,-123.62 216.25,-113.1\"/>\n",
       "<polygon fill=\"black\" stroke=\"black\" points=\"218.69,-115.61 224.08,-106.49 214.18,-110.26 218.69,-115.61\"/>\n",
       "</g>\n",
       "<!-- 8728592901283&#45;&gt;8728745198267 -->\n",
       "<g id=\"edge5\" class=\"edge\">\n",
       "<title>8728592901283&#45;&gt;8728745198267</title>\n",
       "<path fill=\"none\" stroke=\"black\" d=\"M159.45,-215.7C159.45,-207.98 159.45,-198.71 159.45,-190.11\"/>\n",
       "<polygon fill=\"black\" stroke=\"black\" points=\"162.95,-190.1 159.45,-180.1 155.95,-190.1 162.95,-190.1\"/>\n",
       "</g>\n",
       "<!-- 8728592901298&#45;&gt;8728592901283 -->\n",
       "<g id=\"edge6\" class=\"edge\">\n",
       "<title>8728592901298&#45;&gt;8728592901283</title>\n",
       "<path fill=\"none\" stroke=\"black\" d=\"M188.25,-288.05C183.81,-279.89 178.4,-269.91 173.46,-260.82\"/>\n",
       "<polygon fill=\"black\" stroke=\"black\" points=\"176.41,-258.91 168.56,-251.79 170.25,-262.25 176.41,-258.91\"/>\n",
       "</g>\n",
       "<!-- 8728592906780 -->\n",
       "<g id=\"node8\" class=\"node\">\n",
       "<title>8728592906780</title>\n",
       "<ellipse fill=\"#b2dfee\" stroke=\"#b2dfee\" cx=\"197.45\" cy=\"-378\" rx=\"47.39\" ry=\"18\"/>\n",
       "<text text-anchor=\"middle\" x=\"197.45\" y=\"-374.3\" font-family=\"Times,serif\" font-size=\"14.00\">__pow__</text>\n",
       "</g>\n",
       "<!-- 8728592906780&#45;&gt;8728592901298 -->\n",
       "<g id=\"edge8\" class=\"edge\">\n",
       "<title>8728592906780&#45;&gt;8728592901298</title>\n",
       "<path fill=\"none\" stroke=\"black\" d=\"M197.45,-359.7C197.45,-351.98 197.45,-342.71 197.45,-334.11\"/>\n",
       "<polygon fill=\"black\" stroke=\"black\" points=\"200.95,-334.1 197.45,-324.1 193.95,-334.1 200.95,-334.1\"/>\n",
       "</g>\n",
       "<!-- 8728592906966&#45;&gt;8728592906780 -->\n",
       "<g id=\"edge9\" class=\"edge\">\n",
       "<title>8728592906966&#45;&gt;8728592906780</title>\n",
       "<path fill=\"none\" stroke=\"black\" d=\"M189.87,-432.05C190.97,-424.35 192.3,-415.03 193.54,-406.36\"/>\n",
       "<polygon fill=\"black\" stroke=\"black\" points=\"197.03,-406.67 194.98,-396.28 190.1,-405.68 197.03,-406.67\"/>\n",
       "</g>\n",
       "<!-- 8728745224379&#45;&gt;8728745198267 -->\n",
       "<g id=\"edge12\" class=\"edge\">\n",
       "<title>8728745224379&#45;&gt;8728745198267</title>\n",
       "<path fill=\"none\" stroke=\"black\" d=\"M56.66,-288.13C67.12,-269.62 85.25,-239.41 104.45,-216 113.2,-205.32 123.94,-194.56 133.59,-185.55\"/>\n",
       "<polygon fill=\"black\" stroke=\"black\" points=\"136.03,-188.06 141.05,-178.73 131.3,-182.9 136.03,-188.06\"/>\n",
       "</g>\n",
       "</g>\n",
       "</svg>\n"
      ],
      "text/plain": [
       "<graphviz.dot.Digraph at 0x7f048adfaac0>"
      ]
     },
     "execution_count": 41,
     "metadata": {},
     "output_type": "execute_result"
    }
   ],
   "source": [
    "e.generate_graph()"
   ]
  },
  {
   "cell_type": "code",
   "execution_count": null,
   "id": "4ed62735-af21-41bf-ac0a-1fc812a64002",
   "metadata": {},
   "outputs": [],
   "source": []
  }
 ],
 "metadata": {
  "kernelspec": {
   "display_name": "Python 3",
   "language": "python",
   "name": "python3"
  },
  "language_info": {
   "codemirror_mode": {
    "name": "ipython",
    "version": 3
   },
   "file_extension": ".py",
   "mimetype": "text/x-python",
   "name": "python",
   "nbconvert_exporter": "python",
   "pygments_lexer": "ipython3",
   "version": "3.9.4"
  }
 },
 "nbformat": 4,
 "nbformat_minor": 5
}
