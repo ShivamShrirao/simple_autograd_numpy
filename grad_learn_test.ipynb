{
 "cells": [
  {
   "cell_type": "markdown",
   "id": "637149c8",
   "metadata": {},
   "source": [
    "Based on https://github.com/karpathy/micrograd/blob/master/micrograd/engine.py"
   ]
  },
  {
   "cell_type": "code",
   "execution_count": 1,
   "id": "35b85fee-9a8f-4e2d-8e2c-89da60d1c259",
   "metadata": {},
   "outputs": [],
   "source": [
    "%load_ext autoreload\n",
    "%autoreload 2"
   ]
  },
  {
   "cell_type": "code",
   "execution_count": 2,
   "id": "ec41400b-e416-4297-b266-36b44539d9e2",
   "metadata": {},
   "outputs": [],
   "source": [
    "import numpy as np"
   ]
  },
  {
   "cell_type": "code",
   "execution_count": 3,
   "id": "a6f5d6ca-6f17-4931-aac9-26aa1f933622",
   "metadata": {},
   "outputs": [],
   "source": [
    "from tensor import Tensor"
   ]
  },
  {
   "cell_type": "code",
   "execution_count": 4,
   "id": "7ee60cd6",
   "metadata": {},
   "outputs": [],
   "source": [
    "inp = Tensor(np.ones((4,5),dtype=np.float32)*2.)\n",
    "w = Tensor(np.ones((5,4),dtype=np.float32)*-3.)\n",
    "bi = Tensor(np.ones((4,1),dtype=np.float32)*4.)\n",
    "y = Tensor(np.ones((4,4),dtype=np.float32)*20.)\n",
    "lr=1e-2\n",
    "params = [w,bi]"
   ]
  },
  {
   "cell_type": "code",
   "execution_count": 5,
   "id": "139edf18",
   "metadata": {},
   "outputs": [
    {
     "name": "stdout",
     "output_type": "stream",
     "text": [
      "33856.0\n",
      "15655.013\n",
      "7238.8794\n",
      "3347.257\n",
      "1547.7716\n",
      "715.6899\n",
      "330.9349\n",
      "153.02432\n",
      "70.75845\n",
      "32.718678\n",
      "15.1291275\n",
      "6.9957247\n",
      "3.234822\n",
      "1.4957839\n",
      "0.691654\n"
     ]
    }
   ],
   "source": [
    "for i in range(15):\n",
    "    o = inp @ params[0] + params[1]\n",
    "    loss = (o - y)**2\n",
    "    print(loss.data.sum())\n",
    "#     w.grad = bi.grad = 0\n",
    "    loss.backward()\n",
    "    params = [x - lr*x.grad for x in params]"
   ]
  },
  {
   "cell_type": "code",
   "execution_count": 6,
   "id": "8144ba7e",
   "metadata": {},
   "outputs": [
    {
     "data": {
      "text/plain": [
       "tensor([[19.792086, 19.792086, 19.792086, 19.792086],\n",
       "       [19.792086, 19.792086, 19.792086, 19.792086],\n",
       "       [19.792086, 19.792086, 19.792086, 19.792086],\n",
       "       [19.792086, 19.792086, 19.792086, 19.792086]], dtype=float32)"
      ]
     },
     "execution_count": 6,
     "metadata": {},
     "output_type": "execute_result"
    }
   ],
   "source": [
    "o"
   ]
  },
  {
   "cell_type": "code",
   "execution_count": 7,
   "id": "401ef8c2",
   "metadata": {},
   "outputs": [
    {
     "data": {
      "text/plain": [
       "tensor([[20., 20., 20., 20.],\n",
       "       [20., 20., 20., 20.],\n",
       "       [20., 20., 20., 20.],\n",
       "       [20., 20., 20., 20.]], dtype=float32)"
      ]
     },
     "execution_count": 7,
     "metadata": {},
     "output_type": "execute_result"
    }
   ],
   "source": [
    "y"
   ]
  },
  {
   "cell_type": "code",
   "execution_count": 8,
   "id": "c16ee855-b92a-4e0e-987a-173f9f01beed",
   "metadata": {},
   "outputs": [
    {
     "data": {
      "text/plain": [
       "array([[20., 20., 20., 20.],\n",
       "       [20., 20., 20., 20.],\n",
       "       [20., 20., 20., 20.],\n",
       "       [20., 20., 20., 20.]], dtype=float32)"
      ]
     },
     "execution_count": 8,
     "metadata": {},
     "output_type": "execute_result"
    }
   ],
   "source": [
    "y.data"
   ]
  },
  {
   "cell_type": "code",
   "execution_count": null,
   "id": "e415efc1",
   "metadata": {},
   "outputs": [],
   "source": []
  },
  {
   "cell_type": "code",
   "execution_count": 9,
   "id": "bd888e82",
   "metadata": {},
   "outputs": [],
   "source": [
    "import torch"
   ]
  },
  {
   "cell_type": "code",
   "execution_count": 35,
   "id": "98e8425a",
   "metadata": {},
   "outputs": [],
   "source": [
    "a = torch.tensor(np.ones((4,5),dtype=np.float32)*2.)\n",
    "b = torch.tensor(np.ones((5,4),dtype=np.float32)*-3., requires_grad=True)\n",
    "d = torch.tensor(np.ones((1,4),dtype=np.float32)*4., requires_grad=True)\n",
    "f = torch.tensor(np.ones((4,4),dtype=np.float32)*20)"
   ]
  },
  {
   "cell_type": "code",
   "execution_count": 36,
   "id": "1409b875",
   "metadata": {},
   "outputs": [
    {
     "name": "stdout",
     "output_type": "stream",
     "text": [
      "tensor(33856., grad_fn=<SumBackward0>)\n",
      "tensor(15655.0137, grad_fn=<SumBackward0>)\n",
      "tensor(7238.8794, grad_fn=<SumBackward0>)\n",
      "tensor(3347.2573, grad_fn=<SumBackward0>)\n",
      "tensor(1547.7716, grad_fn=<SumBackward0>)\n",
      "tensor(715.6899, grad_fn=<SumBackward0>)\n",
      "tensor(330.9349, grad_fn=<SumBackward0>)\n",
      "tensor(153.0243, grad_fn=<SumBackward0>)\n",
      "tensor(70.7585, grad_fn=<SumBackward0>)\n",
      "tensor(32.7187, grad_fn=<SumBackward0>)\n",
      "tensor(15.1291, grad_fn=<SumBackward0>)\n",
      "tensor(6.9957, grad_fn=<SumBackward0>)\n",
      "tensor(3.2348, grad_fn=<SumBackward0>)\n",
      "tensor(1.4958, grad_fn=<SumBackward0>)\n",
      "tensor(0.6917, grad_fn=<SumBackward0>)\n"
     ]
    }
   ],
   "source": [
    "for i in range(15):\n",
    "    e = a @ b + d\n",
    "    loss = (e - f)**2\n",
    "    print(loss.sum())\n",
    "    loss.sum().backward()\n",
    "    with torch.no_grad():\n",
    "        b -= lr*b.grad\n",
    "        d -= lr*d.grad\n",
    "        b.grad = None\n",
    "        d.grad = None"
   ]
  },
  {
   "cell_type": "code",
   "execution_count": 37,
   "id": "01e76a42",
   "metadata": {},
   "outputs": [
    {
     "data": {
      "text/plain": [
       "tensor([[19.7921, 19.7921, 19.7921, 19.7921],\n",
       "        [19.7921, 19.7921, 19.7921, 19.7921],\n",
       "        [19.7921, 19.7921, 19.7921, 19.7921],\n",
       "        [19.7921, 19.7921, 19.7921, 19.7921]], grad_fn=<AddBackward0>)"
      ]
     },
     "execution_count": 37,
     "metadata": {},
     "output_type": "execute_result"
    }
   ],
   "source": [
    "e"
   ]
  },
  {
   "cell_type": "code",
   "execution_count": 38,
   "id": "4e7ea13b",
   "metadata": {},
   "outputs": [
    {
     "data": {
      "text/plain": [
       "tensor([[20., 20., 20., 20.],\n",
       "        [20., 20., 20., 20.],\n",
       "        [20., 20., 20., 20.],\n",
       "        [20., 20., 20., 20.]])"
      ]
     },
     "execution_count": 38,
     "metadata": {},
     "output_type": "execute_result"
    }
   ],
   "source": [
    "f"
   ]
  },
  {
   "cell_type": "code",
   "execution_count": null,
   "id": "79f8481d-f7a0-4136-9c3c-72fe357511b8",
   "metadata": {},
   "outputs": [],
   "source": []
  },
  {
   "cell_type": "code",
   "execution_count": null,
   "id": "2e7cd58d-b1ce-4497-8fe3-967ec0be8797",
   "metadata": {},
   "outputs": [],
   "source": []
  },
  {
   "cell_type": "code",
   "execution_count": null,
   "id": "df8198af",
   "metadata": {},
   "outputs": [],
   "source": []
  },
  {
   "cell_type": "code",
   "execution_count": 14,
   "id": "998dc543-5055-468c-b270-bc89905b18ae",
   "metadata": {},
   "outputs": [],
   "source": [
    "a = Tensor(np.array([2.,3.], dtype=np.float32))\n",
    "b = Tensor(np.array([6.,4.], dtype=np.float32))"
   ]
  },
  {
   "cell_type": "code",
   "execution_count": 15,
   "id": "55eabd70-9ad3-4fcd-b620-cedf545c2f0a",
   "metadata": {},
   "outputs": [],
   "source": [
    "Q = 3*a**3 - b**2"
   ]
  },
  {
   "cell_type": "code",
   "execution_count": 16,
   "id": "26c56c75-f240-420d-97ab-6704fe36fb6c",
   "metadata": {},
   "outputs": [],
   "source": [
    "o = Q.relu()*a*b"
   ]
  },
  {
   "cell_type": "code",
   "execution_count": 17,
   "id": "fd19a023-ace0-495d-bdb7-54ea791fd120",
   "metadata": {},
   "outputs": [],
   "source": [
    "o.backward(np.ones_like(o))"
   ]
  },
  {
   "cell_type": "code",
   "execution_count": 18,
   "id": "54bec7e2-24b0-4a06-987e-998be9349eaf",
   "metadata": {},
   "outputs": [
    {
     "data": {
      "text/plain": [
       "array([0.0, 1232.0], dtype=object)"
      ]
     },
     "execution_count": 18,
     "metadata": {},
     "output_type": "execute_result"
    }
   ],
   "source": [
    "a.grad"
   ]
  },
  {
   "cell_type": "code",
   "execution_count": 19,
   "id": "0d885e82-ade7-4a0f-99a6-0354142d0163",
   "metadata": {},
   "outputs": [
    {
     "data": {
      "text/plain": [
       "array([0.0, 99.0], dtype=object)"
      ]
     },
     "execution_count": 19,
     "metadata": {},
     "output_type": "execute_result"
    }
   ],
   "source": [
    "b.grad"
   ]
  },
  {
   "cell_type": "code",
   "execution_count": 20,
   "id": "27096fce-e65b-4e11-a7d2-aca673856f99",
   "metadata": {},
   "outputs": [
    {
     "data": {
      "text/plain": [
       "<function tensor.Tensor.__mul__.<locals>.grad_fn(gradient)>"
      ]
     },
     "execution_count": 20,
     "metadata": {},
     "output_type": "execute_result"
    }
   ],
   "source": [
    "o.grad_fn"
   ]
  },
  {
   "cell_type": "code",
   "execution_count": null,
   "id": "f8c8480a-d331-4df4-9974-7a509f283721",
   "metadata": {},
   "outputs": [],
   "source": []
  }
 ],
 "metadata": {
  "kernelspec": {
   "display_name": "Python 3",
   "language": "python",
   "name": "python3"
  },
  "language_info": {
   "codemirror_mode": {
    "name": "ipython",
    "version": 3
   },
   "file_extension": ".py",
   "mimetype": "text/x-python",
   "name": "python",
   "nbconvert_exporter": "python",
   "pygments_lexer": "ipython3",
   "version": "3.9.4"
  }
 },
 "nbformat": 4,
 "nbformat_minor": 5
}
