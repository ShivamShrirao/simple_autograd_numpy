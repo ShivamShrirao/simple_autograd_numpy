{
 "cells": [
  {
   "cell_type": "markdown",
   "id": "66320d63",
   "metadata": {},
   "source": [
    "Based on https://colab.research.google.com/drive/1VpeE6UvEPRz9HmsHh1KS0XxXjYu533EC?usp=sharing"
   ]
  },
  {
   "cell_type": "code",
   "execution_count": 1,
   "id": "13b3052f-bf2c-4566-8e3b-d45cfc2c609d",
   "metadata": {},
   "outputs": [],
   "source": [
    "%load_ext autoreload\n",
    "%autoreload 2"
   ]
  },
  {
   "cell_type": "code",
   "execution_count": 2,
   "id": "dc8fe8cc",
   "metadata": {},
   "outputs": [],
   "source": [
    "import numpy as np"
   ]
  },
  {
   "cell_type": "code",
   "execution_count": 3,
   "id": "a62f285a-22cd-4b54-8608-de0777b3f6b3",
   "metadata": {},
   "outputs": [],
   "source": [
    "import torch"
   ]
  },
  {
   "cell_type": "code",
   "execution_count": 4,
   "id": "1f5d4c71-7df4-4d74-a412-2ca40a1e4135",
   "metadata": {},
   "outputs": [],
   "source": [
    "from tensor import Tensor"
   ]
  },
  {
   "cell_type": "code",
   "execution_count": 5,
   "id": "c61e3220-367b-4e17-974a-0c767f818d7b",
   "metadata": {},
   "outputs": [],
   "source": [
    "a = Tensor(np.array([230.3], dtype=np.float32))\n",
    "b = Tensor(np.array([33.2], dtype=np.float32))"
   ]
  },
  {
   "cell_type": "code",
   "execution_count": 6,
   "id": "141f1791-2e83-417a-82be-b2264b10e633",
   "metadata": {},
   "outputs": [],
   "source": [
    "def f(a, b):\n",
    "    return (a / b - a) * (b / a + a + b) * (a - b)"
   ]
  },
  {
   "cell_type": "code",
   "execution_count": 7,
   "id": "c0ee1d2e-0b40-4dc6-8b79-0f00bb835540",
   "metadata": {},
   "outputs": [],
   "source": [
    "y = f(a,b)"
   ]
  },
  {
   "cell_type": "code",
   "execution_count": 8,
   "id": "d5b9928a-f8db-4bbb-8d58-964dc1c5eaba",
   "metadata": {},
   "outputs": [],
   "source": [
    "y.backward()"
   ]
  },
  {
   "cell_type": "code",
   "execution_count": 9,
   "id": "754f6c64-25d1-47ad-9c78-2d981f0ddfb9",
   "metadata": {},
   "outputs": [
    {
     "data": {
      "text/plain": [
       "(array([-153284.84], dtype=float32), array([3815.0352], dtype=float32))"
      ]
     },
     "execution_count": 9,
     "metadata": {},
     "output_type": "execute_result"
    }
   ],
   "source": [
    "a.grad, b.grad"
   ]
  },
  {
   "cell_type": "code",
   "execution_count": 24,
   "id": "d95b2cf8-fd09-404d-a643-d56dd8417037",
   "metadata": {},
   "outputs": [],
   "source": [
    "a = Tensor(np.array([1], dtype=np.float32))\n",
    "b = Tensor(np.array([2], dtype=np.float32))\n",
    "c = Tensor(np.array([3], dtype=np.float32))"
   ]
  },
  {
   "cell_type": "code",
   "execution_count": 19,
   "id": "16127875-5d9a-4ad8-8a43-af4df025954c",
   "metadata": {},
   "outputs": [],
   "source": [
    "a = torch.tensor(np.array([1], dtype=np.float32), requires_grad=True)\n",
    "b = torch.tensor(np.array([2], dtype=np.float32), requires_grad=True)\n",
    "c = torch.tensor(np.array([3], dtype=np.float32), requires_grad=True)"
   ]
  },
  {
   "cell_type": "code",
   "execution_count": 20,
   "id": "ab5b26fc-256e-41a2-8493-d302ae76fd27",
   "metadata": {
    "tags": []
   },
   "outputs": [
    {
     "data": {
      "text/plain": [
       "tensor([30.8638], grad_fn=<MulBackward0>)"
      ]
     },
     "execution_count": 20,
     "metadata": {},
     "output_type": "execute_result"
    }
   ],
   "source": [
    "d = (a * b).sin()\n",
    "e = (c - (a / b)).exp()\n",
    "f = d + e\n",
    "y = (f * f * f * f).log() * c\n",
    "y"
   ]
  },
  {
   "cell_type": "code",
   "execution_count": 21,
   "id": "4b86b30e-963a-4938-909e-d2cb0944a13c",
   "metadata": {
    "tags": []
   },
   "outputs": [],
   "source": [
    "d.retain_grad(); e.retain_grad(); f.retain_grad()"
   ]
  },
  {
   "cell_type": "code",
   "execution_count": 22,
   "id": "480f2b42-3132-48a2-a41b-d94d9b1aefee",
   "metadata": {
    "tags": []
   },
   "outputs": [],
   "source": [
    "y.backward()"
   ]
  },
  {
   "cell_type": "code",
   "execution_count": 13,
   "id": "98ea7f6b-7a4f-4bb5-9f28-13c8884a3b91",
   "metadata": {},
   "outputs": [
    {
     "data": {
      "text/plain": [
       "(array([-6.3461523], dtype=float32),\n",
       " array([2.4101915], dtype=float32),\n",
       " array([21.454475], dtype=float32),\n",
       " array([0.9166051], dtype=float32),\n",
       " array([0.9166051], dtype=float32),\n",
       " array([0.9166051], dtype=float32))"
      ]
     },
     "execution_count": 13,
     "metadata": {},
     "output_type": "execute_result"
    }
   ],
   "source": [
    "a.grad, b.grad, c.grad, d.grad, e.grad, f.grad"
   ]
  },
  {
   "cell_type": "code",
   "execution_count": 23,
   "id": "351c7e8a-349c-49d2-89d6-2f2b4a2e37e2",
   "metadata": {},
   "outputs": [
    {
     "data": {
      "text/plain": [
       "(tensor([-6.3462]),\n",
       " tensor([2.4102]),\n",
       " tensor([21.4545]),\n",
       " tensor([0.9166]),\n",
       " tensor([0.9166]),\n",
       " tensor([0.9166]))"
      ]
     },
     "execution_count": 23,
     "metadata": {},
     "output_type": "execute_result"
    }
   ],
   "source": [
    "a.grad, b.grad, c.grad, d.grad, e.grad, f.grad"
   ]
  },
  {
   "cell_type": "code",
   "execution_count": null,
   "id": "80d2dc29-f7ad-4dbf-b151-82f394498f59",
   "metadata": {},
   "outputs": [],
   "source": []
  },
  {
   "cell_type": "code",
   "execution_count": 65,
   "id": "03061f2b-d851-4a35-bfa8-fb1e608b18c9",
   "metadata": {},
   "outputs": [],
   "source": [
    "a = Tensor(np.array([2], dtype=np.float32))"
   ]
  },
  {
   "cell_type": "code",
   "execution_count": 49,
   "id": "46eaa2be-b27c-4c46-8efd-365887bb7d00",
   "metadata": {},
   "outputs": [],
   "source": [
    "a = torch.tensor(np.array([2], dtype=np.float32), requires_grad=True)"
   ]
  },
  {
   "cell_type": "code",
   "execution_count": 66,
   "id": "94c341da-beda-44e2-8be1-3160ea730e19",
   "metadata": {},
   "outputs": [],
   "source": [
    "b = a.sin()\n",
    "c = a.log()\n",
    "d = c*b*a\n",
    "e = c*d*a"
   ]
  },
  {
   "cell_type": "code",
   "execution_count": 67,
   "id": "924c7949-26bb-4780-9432-49c0b0cf7882",
   "metadata": {},
   "outputs": [
    {
     "data": {
      "text/plain": [
       "tensor([1.7474986], dtype=float32)"
      ]
     },
     "execution_count": 67,
     "metadata": {},
     "output_type": "execute_result"
    }
   ],
   "source": [
    "e"
   ]
  },
  {
   "cell_type": "code",
   "execution_count": 52,
   "id": "f4a38957-7365-4870-b04e-2395c026853d",
   "metadata": {},
   "outputs": [],
   "source": [
    "b.retain_grad(); c.retain_grad(); d.retain_grad(); e.retain_grad()"
   ]
  },
  {
   "cell_type": "code",
   "execution_count": 68,
   "id": "510d2991-921e-46c9-9e0f-63169f6ef0a1",
   "metadata": {},
   "outputs": [],
   "source": [
    "e.backward()"
   ]
  },
  {
   "cell_type": "code",
   "execution_count": 69,
   "id": "a7158b80-938b-4acc-8c77-e094301f2bef",
   "metadata": {},
   "outputs": [
    {
     "data": {
      "text/plain": [
       "(array([2.2082963], dtype=float32),\n",
       " array([1.921812], dtype=float32),\n",
       " array([5.0422153], dtype=float32),\n",
       " array([1.3862944], dtype=float32),\n",
       " array([1.], dtype=float32))"
      ]
     },
     "execution_count": 69,
     "metadata": {},
     "output_type": "execute_result"
    }
   ],
   "source": [
    "a.grad, b.grad, c.grad, d.grad, e.grad"
   ]
  },
  {
   "cell_type": "code",
   "execution_count": 54,
   "id": "f50bf1c7-4533-4609-bcb9-51226ac6debf",
   "metadata": {},
   "outputs": [
    {
     "data": {
      "text/plain": [
       "(tensor([3.4689]),\n",
       " tensor([1.9218]),\n",
       " tensor([5.0422]),\n",
       " tensor([1.3863]),\n",
       " tensor([1.]))"
      ]
     },
     "execution_count": 54,
     "metadata": {},
     "output_type": "execute_result"
    }
   ],
   "source": [
    "a.grad, b.grad, c.grad, d.grad, e.grad"
   ]
  },
  {
   "cell_type": "code",
   "execution_count": null,
   "id": "83c6ebb0-98e8-4eb7-a44c-6dea8d43d5fc",
   "metadata": {},
   "outputs": [],
   "source": []
  },
  {
   "cell_type": "code",
   "execution_count": null,
   "id": "34086df8-2981-48f6-818e-8a4434780b09",
   "metadata": {},
   "outputs": [],
   "source": []
  },
  {
   "cell_type": "code",
   "execution_count": null,
   "id": "2abb8aa2-2ebf-4d5d-894c-5d434336640a",
   "metadata": {},
   "outputs": [],
   "source": []
  }
 ],
 "metadata": {
  "kernelspec": {
   "display_name": "Python 3",
   "language": "python",
   "name": "python3"
  },
  "language_info": {
   "codemirror_mode": {
    "name": "ipython",
    "version": 3
   },
   "file_extension": ".py",
   "mimetype": "text/x-python",
   "name": "python",
   "nbconvert_exporter": "python",
   "pygments_lexer": "ipython3",
   "version": "3.9.4"
  }
 },
 "nbformat": 4,
 "nbformat_minor": 5
}
