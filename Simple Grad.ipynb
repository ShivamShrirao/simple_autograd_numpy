{
 "cells": [
  {
   "cell_type": "markdown",
   "id": "66320d63",
   "metadata": {},
   "source": [
    "Based on https://colab.research.google.com/drive/1VpeE6UvEPRz9HmsHh1KS0XxXjYu533EC?usp=sharing"
   ]
  },
  {
   "cell_type": "code",
   "execution_count": 1,
   "id": "13b3052f-bf2c-4566-8e3b-d45cfc2c609d",
   "metadata": {},
   "outputs": [],
   "source": [
    "%load_ext autoreload\n",
    "%autoreload 2"
   ]
  },
  {
   "cell_type": "code",
   "execution_count": 2,
   "id": "dc8fe8cc",
   "metadata": {},
   "outputs": [],
   "source": [
    "import numpy as np"
   ]
  },
  {
   "cell_type": "code",
   "execution_count": 3,
   "id": "a62f285a-22cd-4b54-8608-de0777b3f6b3",
   "metadata": {},
   "outputs": [],
   "source": [
    "import torch"
   ]
  },
  {
   "cell_type": "code",
   "execution_count": 4,
   "id": "1f5d4c71-7df4-4d74-a412-2ca40a1e4135",
   "metadata": {},
   "outputs": [],
   "source": [
    "from tensor import Tensor"
   ]
  },
  {
   "cell_type": "code",
   "execution_count": 5,
   "id": "c61e3220-367b-4e17-974a-0c767f818d7b",
   "metadata": {},
   "outputs": [],
   "source": [
    "a = Tensor(np.array([230.3], dtype=np.float32))\n",
    "b = Tensor(np.array([33.2], dtype=np.float32))"
   ]
  },
  {
   "cell_type": "code",
   "execution_count": 6,
   "id": "141f1791-2e83-417a-82be-b2264b10e633",
   "metadata": {},
   "outputs": [],
   "source": [
    "def f(a, b):\n",
    "    return (a / b - a) * (b / a + a + b) * (a - b)"
   ]
  },
  {
   "cell_type": "code",
   "execution_count": 7,
   "id": "c0ee1d2e-0b40-4dc6-8b79-0f00bb835540",
   "metadata": {},
   "outputs": [],
   "source": [
    "y = f(a,b)"
   ]
  },
  {
   "cell_type": "code",
   "execution_count": 8,
   "id": "d5b9928a-f8db-4bbb-8d58-964dc1c5eaba",
   "metadata": {},
   "outputs": [],
   "source": [
    "y.backward()"
   ]
  },
  {
   "cell_type": "code",
   "execution_count": 9,
   "id": "754f6c64-25d1-47ad-9c78-2d981f0ddfb9",
   "metadata": {},
   "outputs": [
    {
     "data": {
      "text/plain": [
       "(array([-153284.84], dtype=float32), array([3815.0352], dtype=float32))"
      ]
     },
     "execution_count": 9,
     "metadata": {},
     "output_type": "execute_result"
    }
   ],
   "source": [
    "a.grad, b.grad"
   ]
  },
  {
   "cell_type": "code",
   "execution_count": 19,
   "id": "d95b2cf8-fd09-404d-a643-d56dd8417037",
   "metadata": {},
   "outputs": [],
   "source": [
    "a = Tensor(np.array([43], dtype=np.float32))\n",
    "b = Tensor(np.array([3], dtype=np.float32))\n",
    "c = Tensor(np.array([2], dtype=np.float32))"
   ]
  },
  {
   "cell_type": "code",
   "execution_count": 33,
   "id": "16127875-5d9a-4ad8-8a43-af4df025954c",
   "metadata": {},
   "outputs": [],
   "source": [
    "a = torch.tensor(np.array([43], dtype=np.float32), requires_grad=True)\n",
    "b = torch.tensor(np.array([3], dtype=np.float32), requires_grad=True)\n",
    "c = torch.tensor(np.array([2], dtype=np.float32), requires_grad=True)"
   ]
  },
  {
   "cell_type": "code",
   "execution_count": 34,
   "id": "ab5b26fc-256e-41a2-8493-d302ae76fd27",
   "metadata": {
    "tags": []
   },
   "outputs": [
    {
     "data": {
      "text/plain": [
       "tensor([-6.5706], grad_fn=<MulBackward0>)"
      ]
     },
     "execution_count": 34,
     "metadata": {},
     "output_type": "execute_result"
    }
   ],
   "source": [
    "d = (a * b).sin()\n",
    "e = (c - (a / b)).exp()\n",
    "f = d + e\n",
    "y = (f ** 2).log() * c\n",
    "y"
   ]
  },
  {
   "cell_type": "code",
   "execution_count": 35,
   "id": "4b86b30e-963a-4938-909e-d2cb0944a13c",
   "metadata": {},
   "outputs": [],
   "source": [
    "d.retain_grad(); e.retain_grad(); f.retain_grad()"
   ]
  },
  {
   "cell_type": "code",
   "execution_count": 36,
   "id": "480f2b42-3132-48a2-a41b-d94d9b1aefee",
   "metadata": {},
   "outputs": [],
   "source": [
    "y.backward()"
   ]
  },
  {
   "cell_type": "code",
   "execution_count": 31,
   "id": "8d3b9a0b-057d-4e8a-81e9-731b823d3e84",
   "metadata": {},
   "outputs": [
    {
     "data": {
      "text/plain": [
       "(tensor([60.8535]),\n",
       " tensor([872.2331]),\n",
       " tensor([-3.2854]),\n",
       " tensor([-20.6751]),\n",
       " tensor([-20.6751]),\n",
       " tensor([-20.6751]))"
      ]
     },
     "execution_count": 31,
     "metadata": {},
     "output_type": "execute_result"
    }
   ],
   "source": [
    "a.grad, b.grad, c.grad, d.grad, e.grad, f.grad"
   ]
  },
  {
   "cell_type": "code",
   "execution_count": 18,
   "id": "351c7e8a-349c-49d2-89d6-2f2b4a2e37e2",
   "metadata": {},
   "outputs": [
    {
     "data": {
      "text/plain": [
       "(tensor([60.8535]),\n",
       " tensor([872.2331]),\n",
       " tensor([-3.2854]),\n",
       " tensor([-20.6751]),\n",
       " tensor([-20.6751]),\n",
       " tensor([-20.6751]))"
      ]
     },
     "execution_count": 18,
     "metadata": {},
     "output_type": "execute_result"
    }
   ],
   "source": [
    "a.grad, b.grad, c.grad, d.grad, e.grad, f.grad"
   ]
  },
  {
   "cell_type": "code",
   "execution_count": null,
   "id": "a7bd090a-8580-40a8-a60e-ea9a0b28fdb9",
   "metadata": {},
   "outputs": [],
   "source": []
  }
 ],
 "metadata": {
  "kernelspec": {
   "display_name": "Python 3",
   "language": "python",
   "name": "python3"
  },
  "language_info": {
   "codemirror_mode": {
    "name": "ipython",
    "version": 3
   },
   "file_extension": ".py",
   "mimetype": "text/x-python",
   "name": "python",
   "nbconvert_exporter": "python",
   "pygments_lexer": "ipython3",
   "version": "3.9.4"
  }
 },
 "nbformat": 4,
 "nbformat_minor": 5
}
