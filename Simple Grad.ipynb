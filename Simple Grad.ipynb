{
 "cells": [
  {
   "cell_type": "markdown",
   "id": "66320d63",
   "metadata": {},
   "source": [
    "Based on https://colab.research.google.com/drive/1VpeE6UvEPRz9HmsHh1KS0XxXjYu533EC?usp=sharing"
   ]
  },
  {
   "cell_type": "code",
   "execution_count": 3,
   "id": "13b3052f-bf2c-4566-8e3b-d45cfc2c609d",
   "metadata": {},
   "outputs": [],
   "source": [
    "%load_ext autoreload\n",
    "%autoreload 2"
   ]
  },
  {
   "cell_type": "code",
   "execution_count": 4,
   "id": "dc8fe8cc",
   "metadata": {},
   "outputs": [],
   "source": [
    "import numpy as np"
   ]
  },
  {
   "cell_type": "code",
   "execution_count": 5,
   "id": "a62f285a-22cd-4b54-8608-de0777b3f6b3",
   "metadata": {},
   "outputs": [],
   "source": [
    "import torch"
   ]
  },
  {
   "cell_type": "code",
   "execution_count": 56,
   "id": "1f5d4c71-7df4-4d74-a412-2ca40a1e4135",
   "metadata": {},
   "outputs": [],
   "source": [
    "from tensor import Tensor"
   ]
  },
  {
   "cell_type": "code",
   "execution_count": 5,
   "id": "c61e3220-367b-4e17-974a-0c767f818d7b",
   "metadata": {},
   "outputs": [],
   "source": [
    "a = Tensor(np.array([230.3], dtype=np.float32))\n",
    "b = Tensor(np.array([33.2], dtype=np.float32))"
   ]
  },
  {
   "cell_type": "code",
   "execution_count": 6,
   "id": "141f1791-2e83-417a-82be-b2264b10e633",
   "metadata": {},
   "outputs": [],
   "source": [
    "def f(a, b):\n",
    "    return (a / b - a) * (b / a + a + b) * (a - b)"
   ]
  },
  {
   "cell_type": "code",
   "execution_count": 7,
   "id": "c0ee1d2e-0b40-4dc6-8b79-0f00bb835540",
   "metadata": {},
   "outputs": [],
   "source": [
    "y = f(a,b)"
   ]
  },
  {
   "cell_type": "code",
   "execution_count": 8,
   "id": "d5b9928a-f8db-4bbb-8d58-964dc1c5eaba",
   "metadata": {},
   "outputs": [],
   "source": [
    "y.backward()"
   ]
  },
  {
   "cell_type": "code",
   "execution_count": 9,
   "id": "754f6c64-25d1-47ad-9c78-2d981f0ddfb9",
   "metadata": {},
   "outputs": [
    {
     "data": {
      "text/plain": [
       "(array([-153284.84], dtype=float32), array([3815.038], dtype=float32))"
      ]
     },
     "execution_count": 9,
     "metadata": {},
     "output_type": "execute_result"
    }
   ],
   "source": [
    "a.grad, b.grad"
   ]
  },
  {
   "cell_type": "code",
   "execution_count": 10,
   "id": "d95b2cf8-fd09-404d-a643-d56dd8417037",
   "metadata": {},
   "outputs": [],
   "source": [
    "a = Tensor(np.array([1], dtype=np.float32), name='a')\n",
    "b = Tensor(np.array([2], dtype=np.float32), name='b')\n",
    "c = Tensor(np.array([3], dtype=np.float32), name='c')"
   ]
  },
  {
   "cell_type": "code",
   "execution_count": 11,
   "id": "16127875-5d9a-4ad8-8a43-af4df025954c",
   "metadata": {},
   "outputs": [],
   "source": [
    "a = torch.tensor(np.array([1], dtype=np.float32), requires_grad=True)\n",
    "b = torch.tensor(np.array([2], dtype=np.float32), requires_grad=True)\n",
    "c = torch.tensor(np.array([3], dtype=np.float32), requires_grad=True)"
   ]
  },
  {
   "cell_type": "code",
   "execution_count": 12,
   "id": "ab5b26fc-256e-41a2-8493-d302ae76fd27",
   "metadata": {
    "tags": []
   },
   "outputs": [
    {
     "data": {
      "text/plain": [
       "tensor([30.8638], grad_fn=<MulBackward0>)"
      ]
     },
     "execution_count": 12,
     "metadata": {},
     "output_type": "execute_result"
    }
   ],
   "source": [
    "d = (a * b).sin()\n",
    "e = (c - (a / b)).exp()\n",
    "f = d + e\n",
    "y = (f * f * f * f).log() * c\n",
    "y"
   ]
  },
  {
   "cell_type": "code",
   "execution_count": 13,
   "id": "4b86b30e-963a-4938-909e-d2cb0944a13c",
   "metadata": {
    "tags": []
   },
   "outputs": [],
   "source": [
    "d.retain_grad(); e.retain_grad(); f.retain_grad()"
   ]
  },
  {
   "cell_type": "code",
   "execution_count": 14,
   "id": "480f2b42-3132-48a2-a41b-d94d9b1aefee",
   "metadata": {
    "tags": []
   },
   "outputs": [],
   "source": [
    "y.backward()"
   ]
  },
  {
   "cell_type": "code",
   "execution_count": 98,
   "id": "98ea7f6b-7a4f-4bb5-9f28-13c8884a3b91",
   "metadata": {},
   "outputs": [
    {
     "data": {
      "text/plain": [
       "(array([-6.3461523], dtype=float32),\n",
       " array([2.4101915], dtype=float32),\n",
       " array([21.454475], dtype=float32),\n",
       " array([0.9166051], dtype=float32),\n",
       " array([0.9166051], dtype=float32),\n",
       " array([0.9166051], dtype=float32))"
      ]
     },
     "execution_count": 98,
     "metadata": {},
     "output_type": "execute_result"
    }
   ],
   "source": [
    "a.grad, b.grad, c.grad, d.grad, e.grad, f.grad"
   ]
  },
  {
   "cell_type": "code",
   "execution_count": 15,
   "id": "351c7e8a-349c-49d2-89d6-2f2b4a2e37e2",
   "metadata": {},
   "outputs": [
    {
     "data": {
      "text/plain": [
       "(tensor([-6.3462]),\n",
       " tensor([2.4102]),\n",
       " tensor([21.4545]),\n",
       " tensor([0.9166]),\n",
       " tensor([0.9166]),\n",
       " tensor([0.9166]))"
      ]
     },
     "execution_count": 15,
     "metadata": {},
     "output_type": "execute_result"
    }
   ],
   "source": [
    "a.grad, b.grad, c.grad, d.grad, e.grad, f.grad"
   ]
  },
  {
   "cell_type": "code",
   "execution_count": null,
   "id": "8ba3dac7-b6b0-48e2-89b2-d475cf2db079",
   "metadata": {},
   "outputs": [],
   "source": []
  },
  {
   "cell_type": "code",
   "execution_count": 58,
   "id": "03061f2b-d851-4a35-bfa8-fb1e608b18c9",
   "metadata": {},
   "outputs": [],
   "source": [
    "a = Tensor(np.array([2], dtype=np.float32), name='a')"
   ]
  },
  {
   "cell_type": "code",
   "execution_count": 28,
   "id": "46eaa2be-b27c-4c46-8efd-365887bb7d00",
   "metadata": {},
   "outputs": [],
   "source": [
    "a = torch.tensor(np.array([2], dtype=np.float32), requires_grad=True)"
   ]
  },
  {
   "cell_type": "code",
   "execution_count": 59,
   "id": "94c341da-beda-44e2-8be1-3160ea730e19",
   "metadata": {},
   "outputs": [
    {
     "ename": "AttributeError",
     "evalue": "'float' object has no attribute 'shape'",
     "output_type": "error",
     "traceback": [
      "\u001b[0;31m---------------------------------------------------------------------------\u001b[0m",
      "\u001b[0;31mAttributeError\u001b[0m                            Traceback (most recent call last)",
      "\u001b[0;32m<ipython-input-59-d3f891753111>\u001b[0m in \u001b[0;36m<module>\u001b[0;34m\u001b[0m\n\u001b[1;32m      2\u001b[0m \u001b[0mc\u001b[0m \u001b[0;34m=\u001b[0m \u001b[0ma\u001b[0m\u001b[0;34m.\u001b[0m\u001b[0mlog\u001b[0m\u001b[0;34m(\u001b[0m\u001b[0;34m)\u001b[0m\u001b[0;34m\u001b[0m\u001b[0;34m\u001b[0m\u001b[0m\n\u001b[1;32m      3\u001b[0m \u001b[0md\u001b[0m \u001b[0;34m=\u001b[0m \u001b[0mc\u001b[0m\u001b[0;34m/\u001b[0m\u001b[0mb\u001b[0m\u001b[0;34m*\u001b[0m\u001b[0ma\u001b[0m\u001b[0;34m\u001b[0m\u001b[0;34m\u001b[0m\u001b[0m\n\u001b[0;32m----> 4\u001b[0;31m \u001b[0me\u001b[0m \u001b[0;34m=\u001b[0m \u001b[0;34m(\u001b[0m\u001b[0mc\u001b[0m\u001b[0;34m+\u001b[0m\u001b[0md\u001b[0m\u001b[0;34m-\u001b[0m\u001b[0ma\u001b[0m\u001b[0;34m)\u001b[0m\u001b[0;34m.\u001b[0m\u001b[0mexp\u001b[0m\u001b[0;34m(\u001b[0m\u001b[0;34m)\u001b[0m\u001b[0;34m\u001b[0m\u001b[0;34m\u001b[0m\u001b[0m\n\u001b[0m",
      "\u001b[0;32m~/machine_learning/simple_autograd_numpy/tensor.py\u001b[0m in \u001b[0;36m__add__\u001b[0;34m(self, other)\u001b[0m\n\u001b[1;32m     40\u001b[0m         \u001b[0mother\u001b[0m \u001b[0;34m=\u001b[0m \u001b[0mother\u001b[0m \u001b[0;32mif\u001b[0m \u001b[0misinstance\u001b[0m\u001b[0;34m(\u001b[0m\u001b[0mother\u001b[0m\u001b[0;34m,\u001b[0m \u001b[0mTensor\u001b[0m\u001b[0;34m)\u001b[0m \u001b[0;32melse\u001b[0m \u001b[0mTensor\u001b[0m\u001b[0;34m(\u001b[0m\u001b[0mother\u001b[0m\u001b[0;34m)\u001b[0m\u001b[0;34m\u001b[0m\u001b[0;34m\u001b[0m\u001b[0m\n\u001b[1;32m     41\u001b[0m         \u001b[0mself\u001b[0m\u001b[0;34m.\u001b[0m\u001b[0mcheckbroadcast\u001b[0m\u001b[0;34m(\u001b[0m\u001b[0mother\u001b[0m\u001b[0;34m)\u001b[0m\u001b[0;34m\u001b[0m\u001b[0;34m\u001b[0m\u001b[0m\n\u001b[0;32m---> 42\u001b[0;31m         \u001b[0mout\u001b[0m \u001b[0;34m=\u001b[0m \u001b[0mTensor\u001b[0m\u001b[0;34m(\u001b[0m\u001b[0mself\u001b[0m\u001b[0;34m.\u001b[0m\u001b[0mdata\u001b[0m \u001b[0;34m+\u001b[0m \u001b[0mother\u001b[0m\u001b[0;34m.\u001b[0m\u001b[0mdata\u001b[0m\u001b[0;34m,\u001b[0m \u001b[0;34m(\u001b[0m\u001b[0mself\u001b[0m\u001b[0;34m,\u001b[0m \u001b[0mother\u001b[0m\u001b[0;34m)\u001b[0m\u001b[0;34m,\u001b[0m \u001b[0mop\u001b[0m\u001b[0;34m=\u001b[0m\u001b[0mself\u001b[0m\u001b[0;34m.\u001b[0m\u001b[0m__add__\u001b[0m\u001b[0;34m)\u001b[0m\u001b[0;34m\u001b[0m\u001b[0;34m\u001b[0m\u001b[0m\n\u001b[0m\u001b[1;32m     43\u001b[0m         \u001b[0;32mdef\u001b[0m \u001b[0mgrad_fn\u001b[0m\u001b[0;34m(\u001b[0m\u001b[0mgradient\u001b[0m\u001b[0;34m)\u001b[0m\u001b[0;34m:\u001b[0m\u001b[0;34m\u001b[0m\u001b[0;34m\u001b[0m\u001b[0m\n\u001b[1;32m     44\u001b[0m             \u001b[0mself\u001b[0m\u001b[0;34m.\u001b[0m\u001b[0mgrad\u001b[0m \u001b[0;34m+=\u001b[0m \u001b[0mgradient\u001b[0m \u001b[0;32mif\u001b[0m \u001b[0mself\u001b[0m\u001b[0;34m.\u001b[0m\u001b[0mbroadcast_dim\u001b[0m \u001b[0;32mis\u001b[0m \u001b[0;32mNone\u001b[0m \u001b[0;32melse\u001b[0m \u001b[0mgradient\u001b[0m\u001b[0;34m.\u001b[0m\u001b[0msum\u001b[0m\u001b[0;34m(\u001b[0m\u001b[0maxis\u001b[0m\u001b[0;34m=\u001b[0m\u001b[0mself\u001b[0m\u001b[0;34m.\u001b[0m\u001b[0mbroadcast_dim\u001b[0m\u001b[0;34m,\u001b[0m \u001b[0mkeepdims\u001b[0m\u001b[0;34m=\u001b[0m\u001b[0;32mTrue\u001b[0m\u001b[0;34m)\u001b[0m\u001b[0;34m\u001b[0m\u001b[0;34m\u001b[0m\u001b[0m\n",
      "\u001b[0;32m~/machine_learning/simple_autograd_numpy/tensor.py\u001b[0m in \u001b[0;36m__radd__\u001b[0;34m(self, other)\u001b[0m\n\u001b[1;32m    104\u001b[0m \u001b[0;34m\u001b[0m\u001b[0m\n\u001b[1;32m    105\u001b[0m     \u001b[0;32mdef\u001b[0m \u001b[0m__radd__\u001b[0m\u001b[0;34m(\u001b[0m\u001b[0mself\u001b[0m\u001b[0;34m,\u001b[0m \u001b[0mother\u001b[0m\u001b[0;34m)\u001b[0m\u001b[0;34m:\u001b[0m\u001b[0;34m\u001b[0m\u001b[0;34m\u001b[0m\u001b[0m\n\u001b[0;32m--> 106\u001b[0;31m         \u001b[0;32mreturn\u001b[0m \u001b[0mself\u001b[0m \u001b[0;34m+\u001b[0m \u001b[0mother\u001b[0m\u001b[0;34m\u001b[0m\u001b[0;34m\u001b[0m\u001b[0m\n\u001b[0m\u001b[1;32m    107\u001b[0m \u001b[0;34m\u001b[0m\u001b[0m\n\u001b[1;32m    108\u001b[0m     \u001b[0;32mdef\u001b[0m \u001b[0m__sub__\u001b[0m\u001b[0;34m(\u001b[0m\u001b[0mself\u001b[0m\u001b[0;34m,\u001b[0m \u001b[0mother\u001b[0m\u001b[0;34m)\u001b[0m\u001b[0;34m:\u001b[0m\u001b[0;34m\u001b[0m\u001b[0;34m\u001b[0m\u001b[0m\n",
      "\u001b[0;32m~/machine_learning/simple_autograd_numpy/tensor.py\u001b[0m in \u001b[0;36m__add__\u001b[0;34m(self, other)\u001b[0m\n\u001b[1;32m     39\u001b[0m     \u001b[0;32mdef\u001b[0m \u001b[0m__add__\u001b[0m\u001b[0;34m(\u001b[0m\u001b[0mself\u001b[0m\u001b[0;34m,\u001b[0m \u001b[0mother\u001b[0m\u001b[0;34m)\u001b[0m\u001b[0;34m:\u001b[0m\u001b[0;34m\u001b[0m\u001b[0;34m\u001b[0m\u001b[0m\n\u001b[1;32m     40\u001b[0m         \u001b[0mother\u001b[0m \u001b[0;34m=\u001b[0m \u001b[0mother\u001b[0m \u001b[0;32mif\u001b[0m \u001b[0misinstance\u001b[0m\u001b[0;34m(\u001b[0m\u001b[0mother\u001b[0m\u001b[0;34m,\u001b[0m \u001b[0mTensor\u001b[0m\u001b[0;34m)\u001b[0m \u001b[0;32melse\u001b[0m \u001b[0mTensor\u001b[0m\u001b[0;34m(\u001b[0m\u001b[0mother\u001b[0m\u001b[0;34m)\u001b[0m\u001b[0;34m\u001b[0m\u001b[0;34m\u001b[0m\u001b[0m\n\u001b[0;32m---> 41\u001b[0;31m         \u001b[0mself\u001b[0m\u001b[0;34m.\u001b[0m\u001b[0mcheckbroadcast\u001b[0m\u001b[0;34m(\u001b[0m\u001b[0mother\u001b[0m\u001b[0;34m)\u001b[0m\u001b[0;34m\u001b[0m\u001b[0;34m\u001b[0m\u001b[0m\n\u001b[0m\u001b[1;32m     42\u001b[0m         \u001b[0mout\u001b[0m \u001b[0;34m=\u001b[0m \u001b[0mTensor\u001b[0m\u001b[0;34m(\u001b[0m\u001b[0mself\u001b[0m\u001b[0;34m.\u001b[0m\u001b[0mdata\u001b[0m \u001b[0;34m+\u001b[0m \u001b[0mother\u001b[0m\u001b[0;34m.\u001b[0m\u001b[0mdata\u001b[0m\u001b[0;34m,\u001b[0m \u001b[0;34m(\u001b[0m\u001b[0mself\u001b[0m\u001b[0;34m,\u001b[0m \u001b[0mother\u001b[0m\u001b[0;34m)\u001b[0m\u001b[0;34m,\u001b[0m \u001b[0mop\u001b[0m\u001b[0;34m=\u001b[0m\u001b[0mself\u001b[0m\u001b[0;34m.\u001b[0m\u001b[0m__add__\u001b[0m\u001b[0;34m)\u001b[0m\u001b[0;34m\u001b[0m\u001b[0;34m\u001b[0m\u001b[0m\n\u001b[1;32m     43\u001b[0m         \u001b[0;32mdef\u001b[0m \u001b[0mgrad_fn\u001b[0m\u001b[0;34m(\u001b[0m\u001b[0mgradient\u001b[0m\u001b[0;34m)\u001b[0m\u001b[0;34m:\u001b[0m\u001b[0;34m\u001b[0m\u001b[0;34m\u001b[0m\u001b[0m\n",
      "\u001b[0;32m~/machine_learning/simple_autograd_numpy/tensor.py\u001b[0m in \u001b[0;36mcheckbroadcast\u001b[0;34m(self, other)\u001b[0m\n\u001b[1;32m    130\u001b[0m \u001b[0;34m\u001b[0m\u001b[0m\n\u001b[1;32m    131\u001b[0m     \u001b[0;32mdef\u001b[0m \u001b[0mcheckbroadcast\u001b[0m\u001b[0;34m(\u001b[0m\u001b[0mself\u001b[0m\u001b[0;34m,\u001b[0m \u001b[0mother\u001b[0m\u001b[0;34m)\u001b[0m\u001b[0;34m:\u001b[0m\u001b[0;34m\u001b[0m\u001b[0;34m\u001b[0m\u001b[0m\n\u001b[0;32m--> 132\u001b[0;31m         \u001b[0;32mfor\u001b[0m \u001b[0mn\u001b[0m\u001b[0;34m,\u001b[0m\u001b[0;34m(\u001b[0m\u001b[0mi\u001b[0m\u001b[0;34m,\u001b[0m\u001b[0mj\u001b[0m\u001b[0;34m)\u001b[0m \u001b[0;32min\u001b[0m \u001b[0menumerate\u001b[0m\u001b[0;34m(\u001b[0m\u001b[0mzip\u001b[0m\u001b[0;34m(\u001b[0m\u001b[0mself\u001b[0m\u001b[0;34m.\u001b[0m\u001b[0mshape\u001b[0m\u001b[0;34m,\u001b[0m \u001b[0mother\u001b[0m\u001b[0;34m.\u001b[0m\u001b[0mshape\u001b[0m\u001b[0;34m)\u001b[0m\u001b[0;34m)\u001b[0m\u001b[0;34m:\u001b[0m\u001b[0;34m\u001b[0m\u001b[0;34m\u001b[0m\u001b[0m\n\u001b[0m\u001b[1;32m    133\u001b[0m             \u001b[0;32mif\u001b[0m \u001b[0mi\u001b[0m\u001b[0;34m==\u001b[0m\u001b[0mj\u001b[0m\u001b[0;34m:\u001b[0m\u001b[0;34m\u001b[0m\u001b[0;34m\u001b[0m\u001b[0m\n\u001b[1;32m    134\u001b[0m                 \u001b[0;32mcontinue\u001b[0m\u001b[0;34m\u001b[0m\u001b[0;34m\u001b[0m\u001b[0m\n",
      "\u001b[0;32m~/machine_learning/simple_autograd_numpy/tensor.py\u001b[0m in \u001b[0;36mshape\u001b[0;34m(self)\u001b[0m\n\u001b[1;32m    123\u001b[0m     \u001b[0;34m@\u001b[0m\u001b[0mproperty\u001b[0m\u001b[0;34m\u001b[0m\u001b[0;34m\u001b[0m\u001b[0m\n\u001b[1;32m    124\u001b[0m     \u001b[0;32mdef\u001b[0m \u001b[0mshape\u001b[0m\u001b[0;34m(\u001b[0m\u001b[0mself\u001b[0m\u001b[0;34m)\u001b[0m\u001b[0;34m:\u001b[0m\u001b[0;34m\u001b[0m\u001b[0;34m\u001b[0m\u001b[0m\n\u001b[0;32m--> 125\u001b[0;31m         \u001b[0;32mreturn\u001b[0m \u001b[0mself\u001b[0m\u001b[0;34m.\u001b[0m\u001b[0mdata\u001b[0m\u001b[0;34m.\u001b[0m\u001b[0mshape\u001b[0m\u001b[0;34m\u001b[0m\u001b[0;34m\u001b[0m\u001b[0m\n\u001b[0m\u001b[1;32m    126\u001b[0m \u001b[0;34m\u001b[0m\u001b[0m\n\u001b[1;32m    127\u001b[0m     \u001b[0;34m@\u001b[0m\u001b[0mproperty\u001b[0m\u001b[0;34m\u001b[0m\u001b[0;34m\u001b[0m\u001b[0m\n",
      "\u001b[0;31mAttributeError\u001b[0m: 'float' object has no attribute 'shape'"
     ]
    }
   ],
   "source": [
    "b = a.sin()\n",
    "c = a.log()\n",
    "d = c/b*a\n",
    "e = (c+d-a).exp()"
   ]
  },
  {
   "cell_type": "code",
   "execution_count": 37,
   "id": "924c7949-26bb-4780-9432-49c0b0cf7882",
   "metadata": {},
   "outputs": [
    {
     "data": {
      "text/plain": [
       "tensor([0.2177248], dtype=float32)"
      ]
     },
     "execution_count": 37,
     "metadata": {},
     "output_type": "execute_result"
    }
   ],
   "source": [
    "e"
   ]
  },
  {
   "cell_type": "code",
   "execution_count": 31,
   "id": "f4a38957-7365-4870-b04e-2395c026853d",
   "metadata": {},
   "outputs": [],
   "source": [
    "b.retain_grad(); c.retain_grad(); d.retain_grad(); e.retain_grad()"
   ]
  },
  {
   "cell_type": "code",
   "execution_count": 38,
   "id": "510d2991-921e-46c9-9e0f-63169f6ef0a1",
   "metadata": {},
   "outputs": [],
   "source": [
    "e.backward()"
   ]
  },
  {
   "cell_type": "code",
   "execution_count": 39,
   "id": "a7158b80-938b-4acc-8c77-e094301f2bef",
   "metadata": {},
   "outputs": [
    {
     "data": {
      "text/plain": [
       "(array([2.0597732], dtype=float32),\n",
       " array([-1.6766543], dtype=float32),\n",
       " array([3.1995003], dtype=float32),\n",
       " array([1.], dtype=float32),\n",
       " array([1.], dtype=float32))"
      ]
     },
     "execution_count": 39,
     "metadata": {},
     "output_type": "execute_result"
    }
   ],
   "source": [
    "a.grad, b.grad, c.grad, d.grad, e.grad"
   ]
  },
  {
   "cell_type": "code",
   "execution_count": 34,
   "id": "f50bf1c7-4533-4609-bcb9-51226ac6debf",
   "metadata": {},
   "outputs": [
    {
     "data": {
      "text/plain": [
       "(tensor([2.0598]),\n",
       " tensor([-1.6767]),\n",
       " tensor([3.1995]),\n",
       " tensor([1.]),\n",
       " tensor([1.]))"
      ]
     },
     "execution_count": 34,
     "metadata": {},
     "output_type": "execute_result"
    }
   ],
   "source": [
    "a.grad, b.grad, c.grad, d.grad, e.grad"
   ]
  },
  {
   "cell_type": "code",
   "execution_count": 57,
   "id": "a75818cd-7a7f-4973-8306-d688fd2d6676",
   "metadata": {},
   "outputs": [
    {
     "data": {
      "image/svg+xml": [
       "<?xml version=\"1.0\" encoding=\"UTF-8\" standalone=\"no\"?>\n",
       "<!DOCTYPE svg PUBLIC \"-//W3C//DTD SVG 1.1//EN\"\n",
       " \"http://www.w3.org/Graphics/SVG/1.1/DTD/svg11.dtd\">\n",
       "<!-- Generated by graphviz version 2.47.1 (0)\n",
       " -->\n",
       "<!-- Pages: 1 -->\n",
       "<svg width=\"262pt\" height=\"476pt\"\n",
       " viewBox=\"0.00 0.00 262.13 476.00\" xmlns=\"http://www.w3.org/2000/svg\" xmlns:xlink=\"http://www.w3.org/1999/xlink\">\n",
       "<g id=\"graph0\" class=\"graph\" transform=\"scale(1 1) rotate(0) translate(4 472)\">\n",
       "<polygon fill=\"white\" stroke=\"transparent\" points=\"-4,4 -4,-472 258.13,-472 258.13,4 -4,4\"/>\n",
       "<!-- 8751521973610 -->\n",
       "<g id=\"node1\" class=\"node\">\n",
       "<title>8751521973610</title>\n",
       "<ellipse fill=\"#b2dfee\" stroke=\"#b2dfee\" cx=\"173.98\" cy=\"-18\" rx=\"45.49\" ry=\"18\"/>\n",
       "<text text-anchor=\"middle\" x=\"173.98\" y=\"-14.3\" font-family=\"Times,serif\" font-size=\"14.00\">__add__</text>\n",
       "</g>\n",
       "<!-- 8751521973688 -->\n",
       "<g id=\"node2\" class=\"node\">\n",
       "<title>8751521973688</title>\n",
       "<ellipse fill=\"#b2dfee\" stroke=\"#b2dfee\" cx=\"137.98\" cy=\"-90\" rx=\"45.49\" ry=\"18\"/>\n",
       "<text text-anchor=\"middle\" x=\"137.98\" y=\"-86.3\" font-family=\"Times,serif\" font-size=\"14.00\">__add__</text>\n",
       "</g>\n",
       "<!-- 8751521973688&#45;&gt;8751521973610 -->\n",
       "<g id=\"edge1\" class=\"edge\">\n",
       "<title>8751521973688&#45;&gt;8751521973610</title>\n",
       "<path fill=\"none\" stroke=\"black\" d=\"M146.7,-72.05C150.9,-63.89 156.03,-53.91 160.7,-44.82\"/>\n",
       "<polygon fill=\"black\" stroke=\"black\" points=\"163.89,-46.28 165.35,-35.79 157.66,-43.08 163.89,-46.28\"/>\n",
       "</g>\n",
       "<!-- 8751521973574 -->\n",
       "<g id=\"node3\" class=\"node\">\n",
       "<title>8751521973574</title>\n",
       "<ellipse fill=\"#b2dfee\" stroke=\"#b2dfee\" cx=\"155.98\" cy=\"-306\" rx=\"27\" ry=\"18\"/>\n",
       "<text text-anchor=\"middle\" x=\"155.98\" y=\"-302.3\" font-family=\"Times,serif\" font-size=\"14.00\">log</text>\n",
       "</g>\n",
       "<!-- 8751521973574&#45;&gt;8751521973688 -->\n",
       "<g id=\"edge2\" class=\"edge\">\n",
       "<title>8751521973574&#45;&gt;8751521973688</title>\n",
       "<path fill=\"none\" stroke=\"black\" d=\"M154.54,-287.85C151.43,-250.83 144.05,-163.18 140.29,-118.39\"/>\n",
       "<polygon fill=\"black\" stroke=\"black\" points=\"143.76,-117.9 139.43,-108.23 136.78,-118.49 143.76,-117.9\"/>\n",
       "</g>\n",
       "<!-- 8751521973598 -->\n",
       "<g id=\"node6\" class=\"node\">\n",
       "<title>8751521973598</title>\n",
       "<ellipse fill=\"#b2dfee\" stroke=\"#b2dfee\" cx=\"67.98\" cy=\"-234\" rx=\"46.29\" ry=\"18\"/>\n",
       "<text text-anchor=\"middle\" x=\"67.98\" y=\"-230.3\" font-family=\"Times,serif\" font-size=\"14.00\">__mul__</text>\n",
       "</g>\n",
       "<!-- 8751521973574&#45;&gt;8751521973598 -->\n",
       "<g id=\"edge6\" class=\"edge\">\n",
       "<title>8751521973574&#45;&gt;8751521973598</title>\n",
       "<path fill=\"none\" stroke=\"black\" d=\"M139.02,-291.5C126.66,-281.67 109.65,-268.15 95.38,-256.79\"/>\n",
       "<polygon fill=\"black\" stroke=\"black\" points=\"97.35,-253.89 87.35,-250.41 93,-259.37 97.35,-253.89\"/>\n",
       "</g>\n",
       "<!-- 8751521973679 -->\n",
       "<g id=\"node4\" class=\"node\">\n",
       "<title>8751521973679</title>\n",
       "<polygon fill=\"lightgrey\" stroke=\"black\" points=\"125.98,-468 71.98,-468 71.98,-432 125.98,-432 125.98,-468\"/>\n",
       "<text text-anchor=\"middle\" x=\"98.98\" y=\"-446.3\" font-family=\"Times,serif\" font-size=\"14.00\">a</text>\n",
       "</g>\n",
       "<!-- 8751521973679&#45;&gt;8751521973574 -->\n",
       "<g id=\"edge3\" class=\"edge\">\n",
       "<title>8751521973679&#45;&gt;8751521973574</title>\n",
       "<path fill=\"none\" stroke=\"black\" d=\"M105.86,-431.87C115.71,-407.33 133.93,-361.94 145.48,-333.17\"/>\n",
       "<polygon fill=\"black\" stroke=\"black\" points=\"148.78,-334.33 149.26,-323.75 142.29,-331.72 148.78,-334.33\"/>\n",
       "</g>\n",
       "<!-- 8751521973637 -->\n",
       "<g id=\"node5\" class=\"node\">\n",
       "<title>8751521973637</title>\n",
       "<ellipse fill=\"#b2dfee\" stroke=\"#b2dfee\" cx=\"67.98\" cy=\"-162\" rx=\"46.29\" ry=\"18\"/>\n",
       "<text text-anchor=\"middle\" x=\"67.98\" y=\"-158.3\" font-family=\"Times,serif\" font-size=\"14.00\">__mul__</text>\n",
       "</g>\n",
       "<!-- 8751521973679&#45;&gt;8751521973637 -->\n",
       "<g id=\"edge10\" class=\"edge\">\n",
       "<title>8751521973679&#45;&gt;8751521973637</title>\n",
       "<path fill=\"none\" stroke=\"black\" d=\"M71.72,-433.76C57.44,-424.52 40.74,-411.52 29.98,-396 10.92,-368.5 12.93,-357.09 7.98,-324 0.88,-276.48 -7.34,-259.54 12.98,-216 18.65,-203.86 28.4,-193.05 38.14,-184.41\"/>\n",
       "<polygon fill=\"black\" stroke=\"black\" points=\"40.43,-187.06 45.87,-177.96 35.95,-181.68 40.43,-187.06\"/>\n",
       "</g>\n",
       "<!-- 8751521973583 -->\n",
       "<g id=\"node8\" class=\"node\">\n",
       "<title>8751521973583</title>\n",
       "<ellipse fill=\"#b2dfee\" stroke=\"#b2dfee\" cx=\"65.98\" cy=\"-378\" rx=\"27\" ry=\"18\"/>\n",
       "<text text-anchor=\"middle\" x=\"65.98\" y=\"-374.3\" font-family=\"Times,serif\" font-size=\"14.00\">sin</text>\n",
       "</g>\n",
       "<!-- 8751521973679&#45;&gt;8751521973583 -->\n",
       "<g id=\"edge9\" class=\"edge\">\n",
       "<title>8751521973679&#45;&gt;8751521973583</title>\n",
       "<path fill=\"none\" stroke=\"black\" d=\"M90.83,-431.7C87.01,-423.61 82.39,-413.81 78.18,-404.87\"/>\n",
       "<polygon fill=\"black\" stroke=\"black\" points=\"81.25,-403.18 73.82,-395.62 74.92,-406.16 81.25,-403.18\"/>\n",
       "</g>\n",
       "<!-- 8751521973667 -->\n",
       "<g id=\"node9\" class=\"node\">\n",
       "<title>8751521973667</title>\n",
       "<ellipse fill=\"#b2dfee\" stroke=\"#b2dfee\" cx=\"207.98\" cy=\"-378\" rx=\"46.29\" ry=\"18\"/>\n",
       "<text text-anchor=\"middle\" x=\"207.98\" y=\"-374.3\" font-family=\"Times,serif\" font-size=\"14.00\">__mul__</text>\n",
       "</g>\n",
       "<!-- 8751521973679&#45;&gt;8751521973667 -->\n",
       "<g id=\"edge12\" class=\"edge\">\n",
       "<title>8751521973679&#45;&gt;8751521973667</title>\n",
       "<path fill=\"none\" stroke=\"black\" d=\"M125.65,-431.88C140.96,-422.04 160.29,-409.63 176.37,-399.31\"/>\n",
       "<polygon fill=\"black\" stroke=\"black\" points=\"178.39,-402.16 184.92,-393.81 174.61,-396.27 178.39,-402.16\"/>\n",
       "</g>\n",
       "<!-- 8751521973637&#45;&gt;8751521973688 -->\n",
       "<g id=\"edge4\" class=\"edge\">\n",
       "<title>8751521973637&#45;&gt;8751521973688</title>\n",
       "<path fill=\"none\" stroke=\"black\" d=\"M84.22,-144.76C93.23,-135.75 104.6,-124.39 114.56,-114.43\"/>\n",
       "<polygon fill=\"black\" stroke=\"black\" points=\"117.24,-116.69 121.84,-107.15 112.29,-111.74 117.24,-116.69\"/>\n",
       "</g>\n",
       "<!-- 8751521973598&#45;&gt;8751521973637 -->\n",
       "<g id=\"edge5\" class=\"edge\">\n",
       "<title>8751521973598&#45;&gt;8751521973637</title>\n",
       "<path fill=\"none\" stroke=\"black\" d=\"M67.98,-215.7C67.98,-207.98 67.98,-198.71 67.98,-190.11\"/>\n",
       "<polygon fill=\"black\" stroke=\"black\" points=\"71.48,-190.1 67.98,-180.1 64.48,-190.1 71.48,-190.1\"/>\n",
       "</g>\n",
       "<!-- 8751521973685 -->\n",
       "<g id=\"node7\" class=\"node\">\n",
       "<title>8751521973685</title>\n",
       "<ellipse fill=\"#b2dfee\" stroke=\"#b2dfee\" cx=\"63.98\" cy=\"-306\" rx=\"47.39\" ry=\"18\"/>\n",
       "<text text-anchor=\"middle\" x=\"63.98\" y=\"-302.3\" font-family=\"Times,serif\" font-size=\"14.00\">__pow__</text>\n",
       "</g>\n",
       "<!-- 8751521973685&#45;&gt;8751521973598 -->\n",
       "<g id=\"edge7\" class=\"edge\">\n",
       "<title>8751521973685&#45;&gt;8751521973598</title>\n",
       "<path fill=\"none\" stroke=\"black\" d=\"M64.97,-287.7C65.41,-279.98 65.94,-270.71 66.43,-262.11\"/>\n",
       "<polygon fill=\"black\" stroke=\"black\" points=\"69.93,-262.29 67.01,-252.1 62.94,-261.89 69.93,-262.29\"/>\n",
       "</g>\n",
       "<!-- 8751521973583&#45;&gt;8751521973685 -->\n",
       "<g id=\"edge8\" class=\"edge\">\n",
       "<title>8751521973583&#45;&gt;8751521973685</title>\n",
       "<path fill=\"none\" stroke=\"black\" d=\"M65.49,-359.7C65.27,-351.98 65,-342.71 64.76,-334.11\"/>\n",
       "<polygon fill=\"black\" stroke=\"black\" points=\"68.26,-334 64.47,-324.1 61.26,-334.2 68.26,-334\"/>\n",
       "</g>\n",
       "<!-- 8751521973667&#45;&gt;8751521973610 -->\n",
       "<g id=\"edge11\" class=\"edge\">\n",
       "<title>8751521973667&#45;&gt;8751521973610</title>\n",
       "<path fill=\"none\" stroke=\"black\" d=\"M208.58,-359.95C209.45,-333.3 210.98,-280.12 210.98,-235 210.98,-235 210.98,-235 210.98,-161 210.98,-119.71 196.15,-73.77 185.27,-45.63\"/>\n",
       "<polygon fill=\"black\" stroke=\"black\" points=\"188.43,-44.11 181.47,-36.11 181.92,-46.7 188.43,-44.11\"/>\n",
       "</g>\n",
       "<!-- 8751521973682 -->\n",
       "<g id=\"node10\" class=\"node\">\n",
       "<title>8751521973682</title>\n",
       "<ellipse fill=\"#b2dfee\" stroke=\"#b2dfee\" cx=\"207.98\" cy=\"-450\" rx=\"44.69\" ry=\"18\"/>\n",
       "<text text-anchor=\"start\" x=\"181.48\" y=\"-446.3\" font-family=\"Times,serif\" font-size=\"14.00\">lambda</text>\n",
       "</g>\n",
       "<!-- 8751521973682&#45;&gt;8751521973667 -->\n",
       "<g id=\"edge13\" class=\"edge\">\n",
       "<title>8751521973682&#45;&gt;8751521973667</title>\n",
       "<path fill=\"none\" stroke=\"black\" d=\"M207.98,-431.7C207.98,-423.98 207.98,-414.71 207.98,-406.11\"/>\n",
       "<polygon fill=\"black\" stroke=\"black\" points=\"211.48,-406.1 207.98,-396.1 204.48,-406.1 211.48,-406.1\"/>\n",
       "</g>\n",
       "</g>\n",
       "</svg>\n"
      ],
      "text/plain": [
       "<graphviz.dot.Digraph at 0x7f59f442fd60>"
      ]
     },
     "execution_count": 57,
     "metadata": {},
     "output_type": "execute_result"
    }
   ],
   "source": [
    "e.generate_graph()"
   ]
  },
  {
   "cell_type": "code",
   "execution_count": null,
   "id": "4ed62735-af21-41bf-ac0a-1fc812a64002",
   "metadata": {},
   "outputs": [],
   "source": []
  }
 ],
 "metadata": {
  "kernelspec": {
   "display_name": "Python 3",
   "language": "python",
   "name": "python3"
  },
  "language_info": {
   "codemirror_mode": {
    "name": "ipython",
    "version": 3
   },
   "file_extension": ".py",
   "mimetype": "text/x-python",
   "name": "python",
   "nbconvert_exporter": "python",
   "pygments_lexer": "ipython3",
   "version": "3.9.4"
  }
 },
 "nbformat": 4,
 "nbformat_minor": 5
}
